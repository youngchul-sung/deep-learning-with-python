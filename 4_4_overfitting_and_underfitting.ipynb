{
  "nbformat": 4,
  "nbformat_minor": 0,
  "metadata": {
    "colab": {
      "name": "4.4-overfitting-and-underfitting",
      "provenance": [],
      "include_colab_link": true
    },
    "kernelspec": {
      "name": "python3",
      "display_name": "Python 3"
    },
    "accelerator": "GPU"
  },
  "cells": [
    {
      "cell_type": "markdown",
      "metadata": {
        "id": "view-in-github",
        "colab_type": "text"
      },
      "source": [
        "<a href=\"https://colab.research.google.com/github/youngchul-sung/deep-learning-with-python/blob/master/4_4_overfitting_and_underfitting.ipynb\" target=\"_parent\"><img src=\"https://colab.research.google.com/assets/colab-badge.svg\" alt=\"Open In Colab\"/></a>"
      ]
    },
    {
      "cell_type": "code",
      "metadata": {
        "id": "xR58sEfOmOOC",
        "colab_type": "code",
        "colab": {
          "base_uri": "https://localhost:8080/",
          "height": 53
        },
        "outputId": "a413f9db-a99b-43e3-a562-9ff79ba3afd6"
      },
      "source": [
        "%tensorflow_version 2.x\n",
        "\n",
        "from tensorflow import keras\n",
        "keras.__version__"
      ],
      "execution_count": 1,
      "outputs": [
        {
          "output_type": "stream",
          "text": [
            "TensorFlow 2.x selected.\n"
          ],
          "name": "stdout"
        },
        {
          "output_type": "execute_result",
          "data": {
            "text/plain": [
              "'2.2.4-tf'"
            ]
          },
          "metadata": {
            "tags": []
          },
          "execution_count": 1
        }
      ]
    },
    {
      "cell_type": "code",
      "metadata": {
        "id": "zqJ7TnlemWxX",
        "colab_type": "code",
        "colab": {}
      },
      "source": [
        "from tensorflow.keras.datasets import imdb\n",
        "import numpy as np\n",
        "\n",
        "(train_data, train_labels), (test_data, test_labels) = imdb.load_data(num_words=10000)\n",
        "\n",
        "def vectorize_sequences(sequences, dimension=10000):\n",
        "    # 크기가 (len(sequences), dimension))이고 모든 원소가 0인 행렬을 만듭니다\n",
        "    results = np.zeros((len(sequences), dimension))\n",
        "    for i, sequence in enumerate(sequences):\n",
        "        results[i, sequence] = 1.  # results[i]에서 특정 인덱스의 위치를 1로 만듭니다\n",
        "    return results\n",
        "\n",
        "# 훈련 데이터를 벡터로 변환합니다\n",
        "x_train = vectorize_sequences(train_data)\n",
        "# 테스트 데이터를 벡터로 변환합니다\n",
        "x_test = vectorize_sequences(test_data)\n",
        "# 레이블을 벡터로 변환합니다\n",
        "y_train = np.asarray(train_labels).astype('float32')\n",
        "y_test = np.asarray(test_labels).astype('float32')"
      ],
      "execution_count": 0,
      "outputs": []
    },
    {
      "cell_type": "code",
      "metadata": {
        "id": "RjoHL_kWolfO",
        "colab_type": "code",
        "colab": {}
      },
      "source": [
        "from tensorflow.keras import models, layers\n",
        "\n",
        "original_model = models.Sequential()\n",
        "original_model.add(layers.Dense(16, activation='relu', input_shape=(10000,)))\n",
        "original_model.add(layers.Dense(16, activation='relu'))\n",
        "original_model.add(layers.Dense(1, activation='sigmoid'))\n",
        "\n",
        "original_model.compile(optimizer='rmsprop',\n",
        "                       loss='binary_crossentropy',\n",
        "                       metrics=['acc'])"
      ],
      "execution_count": 0,
      "outputs": []
    },
    {
      "cell_type": "code",
      "metadata": {
        "id": "bihPuE5ro81-",
        "colab_type": "code",
        "colab": {}
      },
      "source": [
        "smaller_model = models.Sequential()\n",
        "smaller_model.add(layers.Dense(6, activation='relu', input_shape=(10000,)))\n",
        "smaller_model.add(layers.Dense(6, activation='relu'))\n",
        "smaller_model.add(layers.Dense(1, activation='sigmoid'))\n",
        "\n",
        "smaller_model.compile(optimizer='rmsprop',\n",
        "                      loss='binary_crossentropy',\n",
        "                      metrics=['acc'])"
      ],
      "execution_count": 0,
      "outputs": []
    },
    {
      "cell_type": "code",
      "metadata": {
        "id": "Yc9E8G-UpAY-",
        "colab_type": "code",
        "colab": {
          "base_uri": "https://localhost:8080/",
          "height": 755
        },
        "outputId": "1b21450b-bfce-42c8-dc63-fb6a66edfa12"
      },
      "source": [
        "original_hist = original_model.fit(x_train, y_train,\n",
        "                                   epochs=20,\n",
        "                                   batch_size=512,\n",
        "                                   validation_data=(x_test, y_test))"
      ],
      "execution_count": 5,
      "outputs": [
        {
          "output_type": "stream",
          "text": [
            "Train on 25000 samples, validate on 25000 samples\n",
            "Epoch 1/20\n",
            "25000/25000 [==============================] - 3s 126us/sample - loss: 0.4410 - acc: 0.8230 - val_loss: 0.3301 - val_acc: 0.8787\n",
            "Epoch 2/20\n",
            "25000/25000 [==============================] - 2s 83us/sample - loss: 0.2514 - acc: 0.9108 - val_loss: 0.2973 - val_acc: 0.8792\n",
            "Epoch 3/20\n",
            "25000/25000 [==============================] - 2s 82us/sample - loss: 0.1966 - acc: 0.9304 - val_loss: 0.2837 - val_acc: 0.8871\n",
            "Epoch 4/20\n",
            "25000/25000 [==============================] - 2s 82us/sample - loss: 0.1625 - acc: 0.9437 - val_loss: 0.3006 - val_acc: 0.8828\n",
            "Epoch 5/20\n",
            "25000/25000 [==============================] - 2s 81us/sample - loss: 0.1423 - acc: 0.9495 - val_loss: 0.3213 - val_acc: 0.8779\n",
            "Epoch 6/20\n",
            "25000/25000 [==============================] - 2s 81us/sample - loss: 0.1241 - acc: 0.9569 - val_loss: 0.3526 - val_acc: 0.8714\n",
            "Epoch 7/20\n",
            "25000/25000 [==============================] - 2s 83us/sample - loss: 0.1107 - acc: 0.9624 - val_loss: 0.3942 - val_acc: 0.8632\n",
            "Epoch 8/20\n",
            "25000/25000 [==============================] - 2s 81us/sample - loss: 0.0981 - acc: 0.9669 - val_loss: 0.3895 - val_acc: 0.8702\n",
            "Epoch 9/20\n",
            "25000/25000 [==============================] - 2s 82us/sample - loss: 0.0863 - acc: 0.9708 - val_loss: 0.4128 - val_acc: 0.8668\n",
            "Epoch 10/20\n",
            "25000/25000 [==============================] - 2s 81us/sample - loss: 0.0765 - acc: 0.9745 - val_loss: 0.4494 - val_acc: 0.8610\n",
            "Epoch 11/20\n",
            "25000/25000 [==============================] - 2s 82us/sample - loss: 0.0657 - acc: 0.9793 - val_loss: 0.5738 - val_acc: 0.8413\n",
            "Epoch 12/20\n",
            "25000/25000 [==============================] - 2s 83us/sample - loss: 0.0576 - acc: 0.9824 - val_loss: 0.5008 - val_acc: 0.8599\n",
            "Epoch 13/20\n",
            "25000/25000 [==============================] - 2s 82us/sample - loss: 0.0510 - acc: 0.9846 - val_loss: 0.5959 - val_acc: 0.8461\n",
            "Epoch 14/20\n",
            "25000/25000 [==============================] - 2s 84us/sample - loss: 0.0447 - acc: 0.9873 - val_loss: 0.5694 - val_acc: 0.8580\n",
            "Epoch 15/20\n",
            "25000/25000 [==============================] - 2s 83us/sample - loss: 0.0357 - acc: 0.9901 - val_loss: 0.6034 - val_acc: 0.8571\n",
            "Epoch 16/20\n",
            "25000/25000 [==============================] - 2s 83us/sample - loss: 0.0315 - acc: 0.9912 - val_loss: 0.6398 - val_acc: 0.8538\n",
            "Epoch 17/20\n",
            "25000/25000 [==============================] - 2s 82us/sample - loss: 0.0267 - acc: 0.9925 - val_loss: 0.6911 - val_acc: 0.8498\n",
            "Epoch 18/20\n",
            "25000/25000 [==============================] - 2s 83us/sample - loss: 0.0216 - acc: 0.9943 - val_loss: 0.7111 - val_acc: 0.8527\n",
            "Epoch 19/20\n",
            "25000/25000 [==============================] - 2s 83us/sample - loss: 0.0177 - acc: 0.9962 - val_loss: 0.7578 - val_acc: 0.8504\n",
            "Epoch 20/20\n",
            "25000/25000 [==============================] - 2s 81us/sample - loss: 0.0177 - acc: 0.9950 - val_loss: 0.7901 - val_acc: 0.8518\n"
          ],
          "name": "stdout"
        }
      ]
    },
    {
      "cell_type": "code",
      "metadata": {
        "id": "ZXJLltC_pscw",
        "colab_type": "code",
        "colab": {
          "base_uri": "https://localhost:8080/",
          "height": 755
        },
        "outputId": "3a465299-ea37-4696-ab81-cdfac8850b13"
      },
      "source": [
        "smaller_model_hist = smaller_model.fit(x_train, y_train,\n",
        "                                       epochs=20,\n",
        "                                       batch_size=512,\n",
        "                                       validation_data=(x_test, y_test))"
      ],
      "execution_count": 6,
      "outputs": [
        {
          "output_type": "stream",
          "text": [
            "Train on 25000 samples, validate on 25000 samples\n",
            "Epoch 1/20\n",
            "25000/25000 [==============================] - 3s 105us/sample - loss: 0.5342 - acc: 0.8073 - val_loss: 0.4374 - val_acc: 0.8566\n",
            "Epoch 2/20\n",
            "25000/25000 [==============================] - 2s 82us/sample - loss: 0.3517 - acc: 0.8876 - val_loss: 0.3367 - val_acc: 0.8795\n",
            "Epoch 3/20\n",
            "25000/25000 [==============================] - 2s 82us/sample - loss: 0.2664 - acc: 0.9091 - val_loss: 0.2956 - val_acc: 0.8860\n",
            "Epoch 4/20\n",
            "25000/25000 [==============================] - 2s 82us/sample - loss: 0.2196 - acc: 0.9231 - val_loss: 0.2813 - val_acc: 0.8898\n",
            "Epoch 5/20\n",
            "25000/25000 [==============================] - 2s 83us/sample - loss: 0.1901 - acc: 0.9344 - val_loss: 0.2783 - val_acc: 0.8888\n",
            "Epoch 6/20\n",
            "25000/25000 [==============================] - 2s 83us/sample - loss: 0.1674 - acc: 0.9427 - val_loss: 0.2833 - val_acc: 0.8866\n",
            "Epoch 7/20\n",
            "25000/25000 [==============================] - 2s 83us/sample - loss: 0.1489 - acc: 0.9485 - val_loss: 0.2952 - val_acc: 0.8847\n",
            "Epoch 8/20\n",
            "25000/25000 [==============================] - 2s 83us/sample - loss: 0.1340 - acc: 0.9546 - val_loss: 0.3083 - val_acc: 0.8814\n",
            "Epoch 9/20\n",
            "25000/25000 [==============================] - 2s 83us/sample - loss: 0.1231 - acc: 0.9589 - val_loss: 0.3320 - val_acc: 0.8757\n",
            "Epoch 10/20\n",
            "25000/25000 [==============================] - 2s 83us/sample - loss: 0.1128 - acc: 0.9632 - val_loss: 0.3411 - val_acc: 0.8750\n",
            "Epoch 11/20\n",
            "25000/25000 [==============================] - 2s 82us/sample - loss: 0.1043 - acc: 0.9664 - val_loss: 0.3531 - val_acc: 0.8743\n",
            "Epoch 12/20\n",
            "25000/25000 [==============================] - 2s 82us/sample - loss: 0.0967 - acc: 0.9694 - val_loss: 0.3817 - val_acc: 0.8677\n",
            "Epoch 13/20\n",
            "25000/25000 [==============================] - 2s 82us/sample - loss: 0.0893 - acc: 0.9719 - val_loss: 0.3878 - val_acc: 0.8695\n",
            "Epoch 14/20\n",
            "25000/25000 [==============================] - 2s 83us/sample - loss: 0.0824 - acc: 0.9743 - val_loss: 0.4160 - val_acc: 0.8639\n",
            "Epoch 15/20\n",
            "25000/25000 [==============================] - 2s 83us/sample - loss: 0.0763 - acc: 0.9766 - val_loss: 0.4398 - val_acc: 0.8624\n",
            "Epoch 16/20\n",
            "25000/25000 [==============================] - 2s 83us/sample - loss: 0.0710 - acc: 0.9790 - val_loss: 0.4579 - val_acc: 0.8616\n",
            "Epoch 17/20\n",
            "25000/25000 [==============================] - 2s 83us/sample - loss: 0.0651 - acc: 0.9816 - val_loss: 0.4804 - val_acc: 0.8594\n",
            "Epoch 18/20\n",
            "25000/25000 [==============================] - 2s 82us/sample - loss: 0.0613 - acc: 0.9828 - val_loss: 0.4989 - val_acc: 0.8589\n",
            "Epoch 19/20\n",
            "25000/25000 [==============================] - 2s 83us/sample - loss: 0.0560 - acc: 0.9844 - val_loss: 0.5158 - val_acc: 0.8573\n",
            "Epoch 20/20\n",
            "25000/25000 [==============================] - 2s 81us/sample - loss: 0.0520 - acc: 0.9862 - val_loss: 0.5418 - val_acc: 0.8564\n"
          ],
          "name": "stdout"
        }
      ]
    },
    {
      "cell_type": "code",
      "metadata": {
        "id": "dTEk-ssfqFEm",
        "colab_type": "code",
        "colab": {}
      },
      "source": [
        "epochs = range(1, 21)\n",
        "original_val_loss = original_hist.history['val_loss']\n",
        "smaller_model_val_loss = smaller_model_hist.history['val_loss']"
      ],
      "execution_count": 0,
      "outputs": []
    },
    {
      "cell_type": "code",
      "metadata": {
        "id": "Gs0XxKuuqJif",
        "colab_type": "code",
        "colab": {}
      },
      "source": [
        "import matplotlib.pyplot as plt"
      ],
      "execution_count": 0,
      "outputs": []
    },
    {
      "cell_type": "code",
      "metadata": {
        "id": "gBQg9GRNqLKf",
        "colab_type": "code",
        "colab": {
          "base_uri": "https://localhost:8080/",
          "height": 279
        },
        "outputId": "809a8b36-20f0-4a86-d58f-4137e2a29197"
      },
      "source": [
        "# ‘b+’는 파란색 덧셈 기호을 의미합니다\n",
        "plt.plot(epochs, original_val_loss, 'b+', label='Original model')\n",
        "# ‘bo’는 파란색 점을 의미합니다\n",
        "plt.plot(epochs, smaller_model_val_loss, 'bo', label='Smaller model')\n",
        "plt.xlabel('Epochs')\n",
        "plt.ylabel('Validation loss')\n",
        "plt.legend()\n",
        "\n",
        "plt.show()"
      ],
      "execution_count": 9,
      "outputs": [
        {
          "output_type": "display_data",
          "data": {
            "image/png": "[encoded data removed]",
            "text/plain": [
              "<Figure size 432x288 with 1 Axes>"
            ]
          },
          "metadata": {
            "tags": []
          }
        }
      ]
    },
    {
      "cell_type": "code",
      "metadata": {
        "id": "ckn00BN5qYYv",
        "colab_type": "code",
        "colab": {}
      },
      "source": [
        "bigger_model = models.Sequential()\n",
        "bigger_model.add(layers.Dense(1024, activation='relu', input_shape=(10000,)))\n",
        "bigger_model.add(layers.Dense(1024, activation='relu'))\n",
        "bigger_model.add(layers.Dense(1, activation='sigmoid'))\n",
        "\n",
        "bigger_model.compile(optimizer='rmsprop',\n",
        "                     loss='binary_crossentropy',\n",
        "                     metrics=['acc'])"
      ],
      "execution_count": 0,
      "outputs": []
    },
    {
      "cell_type": "code",
      "metadata": {
        "id": "zL4wExY8qbOG",
        "colab_type": "code",
        "colab": {
          "base_uri": "https://localhost:8080/",
          "height": 755
        },
        "outputId": "ab1e07a1-b4bf-4410-e4fd-c59f5f453cda"
      },
      "source": [
        "bigger_model_hist = bigger_model.fit(x_train, y_train,\n",
        "                                     epochs=20,\n",
        "                                     batch_size=512,\n",
        "                                     validation_data=(x_test, y_test))"
      ],
      "execution_count": 11,
      "outputs": [
        {
          "output_type": "stream",
          "text": [
            "Train on 25000 samples, validate on 25000 samples\n",
            "Epoch 1/20\n",
            "25000/25000 [==============================] - 3s 116us/sample - loss: 0.5439 - acc: 0.7827 - val_loss: 0.3857 - val_acc: 0.8236\n",
            "Epoch 2/20\n",
            "25000/25000 [==============================] - 2s 90us/sample - loss: 0.2332 - acc: 0.9085 - val_loss: 0.2828 - val_acc: 0.8848\n",
            "Epoch 3/20\n",
            "25000/25000 [==============================] - 2s 90us/sample - loss: 0.1207 - acc: 0.9565 - val_loss: 0.3506 - val_acc: 0.8810\n",
            "Epoch 4/20\n",
            "25000/25000 [==============================] - 2s 92us/sample - loss: 0.0524 - acc: 0.9825 - val_loss: 0.6494 - val_acc: 0.8513\n",
            "Epoch 5/20\n",
            "25000/25000 [==============================] - 2s 90us/sample - loss: 0.1135 - acc: 0.9856 - val_loss: 0.4781 - val_acc: 0.8840\n",
            "Epoch 6/20\n",
            "25000/25000 [==============================] - 2s 90us/sample - loss: 7.2816e-04 - acc: 0.9999 - val_loss: 0.6741 - val_acc: 0.8834\n",
            "Epoch 7/20\n",
            "25000/25000 [==============================] - 2s 89us/sample - loss: 4.5742e-05 - acc: 1.0000 - val_loss: 0.8445 - val_acc: 0.8814\n",
            "Epoch 8/20\n",
            "25000/25000 [==============================] - 2s 90us/sample - loss: 0.2481 - acc: 0.9874 - val_loss: 0.9116 - val_acc: 0.8424\n",
            "Epoch 9/20\n",
            "25000/25000 [==============================] - 2s 91us/sample - loss: 9.9021e-05 - acc: 1.0000 - val_loss: 0.7486 - val_acc: 0.8801\n",
            "Epoch 10/20\n",
            "25000/25000 [==============================] - 2s 90us/sample - loss: 1.1305e-05 - acc: 1.0000 - val_loss: 0.8410 - val_acc: 0.8768\n",
            "Epoch 11/20\n",
            "25000/25000 [==============================] - 2s 89us/sample - loss: 2.9167e-06 - acc: 1.0000 - val_loss: 0.9047 - val_acc: 0.8808\n",
            "Epoch 12/20\n",
            "25000/25000 [==============================] - 2s 91us/sample - loss: 6.2335e-07 - acc: 1.0000 - val_loss: 1.0470 - val_acc: 0.8809\n",
            "Epoch 13/20\n",
            "25000/25000 [==============================] - 2s 91us/sample - loss: 1.2029e-07 - acc: 1.0000 - val_loss: 1.1505 - val_acc: 0.8812\n",
            "Epoch 14/20\n",
            "25000/25000 [==============================] - 2s 93us/sample - loss: 3.1611e-08 - acc: 1.0000 - val_loss: 1.2331 - val_acc: 0.8813\n",
            "Epoch 15/20\n",
            "25000/25000 [==============================] - 2s 90us/sample - loss: 1.4286e-08 - acc: 1.0000 - val_loss: 1.2767 - val_acc: 0.8814\n",
            "Epoch 16/20\n",
            "25000/25000 [==============================] - 2s 89us/sample - loss: 9.2014e-09 - acc: 1.0000 - val_loss: 1.3015 - val_acc: 0.8814\n",
            "Epoch 17/20\n",
            "25000/25000 [==============================] - 2s 90us/sample - loss: 6.8850e-09 - acc: 1.0000 - val_loss: 1.3206 - val_acc: 0.8813\n",
            "Epoch 18/20\n",
            "25000/25000 [==============================] - 2s 91us/sample - loss: 5.5782e-09 - acc: 1.0000 - val_loss: 1.3344 - val_acc: 0.8813\n",
            "Epoch 19/20\n",
            "25000/25000 [==============================] - 2s 91us/sample - loss: 4.7185e-09 - acc: 1.0000 - val_loss: 1.3463 - val_acc: 0.8815\n",
            "Epoch 20/20\n",
            "25000/25000 [==============================] - 2s 88us/sample - loss: 4.1257e-09 - acc: 1.0000 - val_loss: 1.3590 - val_acc: 0.8813\n"
          ],
          "name": "stdout"
        }
      ]
    },
    {
      "cell_type": "code",
      "metadata": {
        "id": "Vc51MFQOqr1-",
        "colab_type": "code",
        "colab": {
          "base_uri": "https://localhost:8080/",
          "height": 281
        },
        "outputId": "7f865dd7-c164-4307-9eb6-f4e2e8d046ac"
      },
      "source": [
        "bigger_model_val_loss = bigger_model_hist.history['val_loss']\n",
        "\n",
        "plt.plot(epochs, original_val_loss, 'b+', label='Original model')\n",
        "plt.plot(epochs, bigger_model_val_loss, 'bo', label='Bigger model')\n",
        "plt.xlabel('Epochs')\n",
        "plt.ylabel('Validation loss')\n",
        "plt.legend()\n",
        "\n",
        "plt.show()"
      ],
      "execution_count": 12,
      "outputs": [
        {
          "output_type": "display_data",
          "data": {
            "image/png": "[encoded data removed]",
            "text/plain": [
              "<Figure size 432x288 with 1 Axes>"
            ]
          },
          "metadata": {
            "tags": []
          }
        }
      ]
    },
    {
      "cell_type": "code",
      "metadata": {
        "id": "te5ZvBeSq_lX",
        "colab_type": "code",
        "colab": {
          "base_uri": "https://localhost:8080/",
          "height": 279
        },
        "outputId": "6ce264e7-7b5d-4e20-f5b8-d25c9bf22f51"
      },
      "source": [
        "original_train_loss = original_hist.history['loss']\n",
        "bigger_model_train_loss = bigger_model_hist.history['loss']\n",
        "\n",
        "plt.plot(epochs, original_train_loss, 'b+', label='Original model')\n",
        "plt.plot(epochs, bigger_model_train_loss, 'bo', label='Bigger model')\n",
        "plt.xlabel('Epochs')\n",
        "plt.ylabel('Training loss')\n",
        "plt.legend()\n",
        "\n",
        "plt.show()"
      ],
      "execution_count": 13,
      "outputs": [
        {
          "output_type": "display_data",
          "data": {
            "image/png": "[encoded data removed]",
            "text/plain": [
              "<Figure size 432x288 with 1 Axes>"
            ]
          },
          "metadata": {
            "tags": []
          }
        }
      ]
    },
    {
      "cell_type": "code",
      "metadata": {
        "id": "x76P9Ia0rGrX",
        "colab_type": "code",
        "colab": {}
      },
      "source": [
        "from tensorflow.keras import regularizers\n",
        "\n",
        "l2_model = models.Sequential()\n",
        "l2_model.add(layers.Dense(16, kernel_regularizer=regularizers.l2(0.001),\n",
        "                          activation='relu', input_shape=(10000,)))\n",
        "l2_model.add(layers.Dense(16, kernel_regularizer=regularizers.l2(0.001),\n",
        "                          activation='relu'))\n",
        "l2_model.add(layers.Dense(1, activation='sigmoid'))"
      ],
      "execution_count": 0,
      "outputs": []
    },
    {
      "cell_type": "code",
      "metadata": {
        "id": "07rE7h4RrVIf",
        "colab_type": "code",
        "colab": {}
      },
      "source": [
        "l2_model.compile(optimizer='rmsprop',\n",
        "                 loss='binary_crossentropy',\n",
        "                 metrics=['acc'])"
      ],
      "execution_count": 0,
      "outputs": []
    },
    {
      "cell_type": "code",
      "metadata": {
        "id": "5GNdwmpyrYev",
        "colab_type": "code",
        "colab": {
          "base_uri": "https://localhost:8080/",
          "height": 755
        },
        "outputId": "93d52f11-5c67-4f63-d515-bc84c5896742"
      },
      "source": [
        "l2_model_hist = l2_model.fit(x_train, y_train,\n",
        "                             epochs=20,\n",
        "                             batch_size=512,\n",
        "                             validation_data=(x_test, y_test))"
      ],
      "execution_count": 16,
      "outputs": [
        {
          "output_type": "stream",
          "text": [
            "Train on 25000 samples, validate on 25000 samples\n",
            "Epoch 1/20\n",
            "25000/25000 [==============================] - 3s 109us/sample - loss: 0.5076 - acc: 0.8205 - val_loss: 0.3933 - val_acc: 0.8804\n",
            "Epoch 2/20\n",
            "25000/25000 [==============================] - 2s 85us/sample - loss: 0.3254 - acc: 0.9034 - val_loss: 0.3381 - val_acc: 0.8877\n",
            "Epoch 3/20\n",
            "25000/25000 [==============================] - 2s 84us/sample - loss: 0.2761 - acc: 0.9176 - val_loss: 0.3261 - val_acc: 0.8897\n",
            "Epoch 4/20\n",
            "25000/25000 [==============================] - 2s 81us/sample - loss: 0.2534 - acc: 0.9266 - val_loss: 0.3302 - val_acc: 0.8869\n",
            "Epoch 5/20\n",
            "25000/25000 [==============================] - 2s 84us/sample - loss: 0.2386 - acc: 0.9326 - val_loss: 0.3427 - val_acc: 0.8821\n",
            "Epoch 6/20\n",
            "25000/25000 [==============================] - 2s 83us/sample - loss: 0.2296 - acc: 0.9371 - val_loss: 0.3467 - val_acc: 0.8824\n",
            "Epoch 7/20\n",
            "25000/25000 [==============================] - 2s 85us/sample - loss: 0.2239 - acc: 0.9388 - val_loss: 0.3570 - val_acc: 0.8776\n",
            "Epoch 8/20\n",
            "25000/25000 [==============================] - 2s 83us/sample - loss: 0.2147 - acc: 0.9425 - val_loss: 0.3539 - val_acc: 0.8792\n",
            "Epoch 9/20\n",
            "25000/25000 [==============================] - 2s 82us/sample - loss: 0.2097 - acc: 0.9438 - val_loss: 0.3615 - val_acc: 0.8775\n",
            "Epoch 10/20\n",
            "25000/25000 [==============================] - 2s 82us/sample - loss: 0.2049 - acc: 0.9463 - val_loss: 0.4075 - val_acc: 0.8635\n",
            "Epoch 11/20\n",
            "25000/25000 [==============================] - 2s 82us/sample - loss: 0.2026 - acc: 0.9454 - val_loss: 0.3852 - val_acc: 0.8722\n",
            "Epoch 12/20\n",
            "25000/25000 [==============================] - 2s 82us/sample - loss: 0.1988 - acc: 0.9471 - val_loss: 0.3819 - val_acc: 0.8738\n",
            "Epoch 13/20\n",
            "25000/25000 [==============================] - 2s 83us/sample - loss: 0.1968 - acc: 0.9488 - val_loss: 0.3834 - val_acc: 0.8745\n",
            "Epoch 14/20\n",
            "25000/25000 [==============================] - 2s 83us/sample - loss: 0.1907 - acc: 0.9520 - val_loss: 0.3956 - val_acc: 0.8702\n",
            "Epoch 15/20\n",
            "25000/25000 [==============================] - 2s 83us/sample - loss: 0.1888 - acc: 0.9514 - val_loss: 0.3953 - val_acc: 0.8723\n",
            "Epoch 16/20\n",
            "25000/25000 [==============================] - 2s 83us/sample - loss: 0.1834 - acc: 0.9552 - val_loss: 0.4283 - val_acc: 0.8646\n",
            "Epoch 17/20\n",
            "25000/25000 [==============================] - 2s 83us/sample - loss: 0.1824 - acc: 0.9554 - val_loss: 0.4185 - val_acc: 0.8673\n",
            "Epoch 18/20\n",
            "25000/25000 [==============================] - 2s 83us/sample - loss: 0.1815 - acc: 0.9545 - val_loss: 0.4416 - val_acc: 0.8612\n",
            "Epoch 19/20\n",
            "25000/25000 [==============================] - 2s 83us/sample - loss: 0.1781 - acc: 0.9561 - val_loss: 0.4206 - val_acc: 0.8676\n",
            "Epoch 20/20\n",
            "25000/25000 [==============================] - 2s 81us/sample - loss: 0.1758 - acc: 0.9567 - val_loss: 0.4411 - val_acc: 0.8632\n"
          ],
          "name": "stdout"
        }
      ]
    },
    {
      "cell_type": "code",
      "metadata": {
        "id": "WnLQh2EGr2Ev",
        "colab_type": "code",
        "colab": {
          "base_uri": "https://localhost:8080/",
          "height": 279
        },
        "outputId": "e813bb24-bb8e-4d22-b076-5de777320099"
      },
      "source": [
        "l2_model_val_loss = l2_model_hist.history['val_loss']\n",
        "\n",
        "plt.plot(epochs, original_val_loss, 'b+', label='Original model')\n",
        "plt.plot(epochs, l2_model_val_loss, 'bo', label='L2-regularized model')\n",
        "plt.xlabel('Epochs')\n",
        "plt.ylabel('Validation loss')\n",
        "plt.legend()\n",
        "\n",
        "plt.show()"
      ],
      "execution_count": 17,
      "outputs": [
        {
          "output_type": "display_data",
          "data": {
            "image/png": "[encoded data removed]",
            "text/plain": [
              "<Figure size 432x288 with 1 Axes>"
            ]
          },
          "metadata": {
            "tags": []
          }
        }
      ]
    },
    {
      "cell_type": "code",
      "metadata": {
        "id": "1CFRYQW1r-Dn",
        "colab_type": "code",
        "colab": {}
      },
      "source": [
        "l1_model = models.Sequential()\n",
        "l1_model.add(layers.Dense(16, kernel_regularizer=regularizers.l1(0.0001),\n",
        "                          activation='relu', input_shape=(10000,)))\n",
        "l1_model.add(layers.Dense(16, kernel_regularizer=regularizers.l1(0.0001),\n",
        "                          activation='relu'))\n",
        "l1_model.add(layers.Dense(1, activation='sigmoid'))"
      ],
      "execution_count": 0,
      "outputs": []
    },
    {
      "cell_type": "code",
      "metadata": {
        "id": "KZKbFc3XsBbv",
        "colab_type": "code",
        "colab": {}
      },
      "source": [
        "l1_model.compile(optimizer='rmsprop',\n",
        "                 loss='binary_crossentropy',\n",
        "                 metrics=['acc'])"
      ],
      "execution_count": 0,
      "outputs": []
    },
    {
      "cell_type": "code",
      "metadata": {
        "id": "49PpnH7EsCr-",
        "colab_type": "code",
        "colab": {
          "base_uri": "https://localhost:8080/",
          "height": 755
        },
        "outputId": "e8eb6713-51f7-427e-a206-2fc35651be4b"
      },
      "source": [
        "l1_model_hist = l1_model.fit(x_train, y_train,\n",
        "                             epochs=20,\n",
        "                             batch_size=512,\n",
        "                             validation_data=(x_test, y_test))"
      ],
      "execution_count": 20,
      "outputs": [
        {
          "output_type": "stream",
          "text": [
            "Train on 25000 samples, validate on 25000 samples\n",
            "Epoch 1/20\n",
            "25000/25000 [==============================] - 3s 108us/sample - loss: 0.5786 - acc: 0.8124 - val_loss: 0.4449 - val_acc: 0.8732\n",
            "Epoch 2/20\n",
            "25000/25000 [==============================] - 2s 83us/sample - loss: 0.3779 - acc: 0.8925 - val_loss: 0.3667 - val_acc: 0.8884\n",
            "Epoch 3/20\n",
            "25000/25000 [==============================] - 2s 83us/sample - loss: 0.3279 - acc: 0.9045 - val_loss: 0.3559 - val_acc: 0.8872\n",
            "Epoch 4/20\n",
            "25000/25000 [==============================] - 2s 83us/sample - loss: 0.3083 - acc: 0.9126 - val_loss: 0.3583 - val_acc: 0.8868\n",
            "Epoch 5/20\n",
            "25000/25000 [==============================] - 2s 82us/sample - loss: 0.2942 - acc: 0.9164 - val_loss: 0.3580 - val_acc: 0.8848\n",
            "Epoch 6/20\n",
            "25000/25000 [==============================] - 2s 83us/sample - loss: 0.2868 - acc: 0.9212 - val_loss: 0.3628 - val_acc: 0.8840\n",
            "Epoch 7/20\n",
            "25000/25000 [==============================] - 2s 81us/sample - loss: 0.2781 - acc: 0.9240 - val_loss: 0.3821 - val_acc: 0.8775\n",
            "Epoch 8/20\n",
            "25000/25000 [==============================] - 2s 84us/sample - loss: 0.2723 - acc: 0.9260 - val_loss: 0.3921 - val_acc: 0.8747\n",
            "Epoch 9/20\n",
            "25000/25000 [==============================] - 2s 83us/sample - loss: 0.2695 - acc: 0.9291 - val_loss: 0.3673 - val_acc: 0.8834\n",
            "Epoch 10/20\n",
            "25000/25000 [==============================] - 2s 83us/sample - loss: 0.2640 - acc: 0.9311 - val_loss: 0.3708 - val_acc: 0.8820\n",
            "Epoch 11/20\n",
            "25000/25000 [==============================] - 2s 83us/sample - loss: 0.2570 - acc: 0.9334 - val_loss: 0.3733 - val_acc: 0.8826\n",
            "Epoch 12/20\n",
            "25000/25000 [==============================] - 2s 81us/sample - loss: 0.2528 - acc: 0.9354 - val_loss: 0.3827 - val_acc: 0.8794\n",
            "Epoch 13/20\n",
            "25000/25000 [==============================] - 2s 84us/sample - loss: 0.2482 - acc: 0.9370 - val_loss: 0.3847 - val_acc: 0.8767\n",
            "Epoch 14/20\n",
            "25000/25000 [==============================] - 2s 83us/sample - loss: 0.2427 - acc: 0.9387 - val_loss: 0.3851 - val_acc: 0.8799\n",
            "Epoch 15/20\n",
            "25000/25000 [==============================] - 2s 83us/sample - loss: 0.2368 - acc: 0.9432 - val_loss: 0.3900 - val_acc: 0.8775\n",
            "Epoch 16/20\n",
            "25000/25000 [==============================] - 2s 85us/sample - loss: 0.2341 - acc: 0.9439 - val_loss: 0.4092 - val_acc: 0.8706\n",
            "Epoch 17/20\n",
            "25000/25000 [==============================] - 2s 83us/sample - loss: 0.2269 - acc: 0.9459 - val_loss: 0.4418 - val_acc: 0.8577\n",
            "Epoch 18/20\n",
            "25000/25000 [==============================] - 2s 84us/sample - loss: 0.2222 - acc: 0.9490 - val_loss: 0.4326 - val_acc: 0.8714\n",
            "Epoch 19/20\n",
            "25000/25000 [==============================] - 2s 82us/sample - loss: 0.2199 - acc: 0.9496 - val_loss: 0.4089 - val_acc: 0.8730\n",
            "Epoch 20/20\n",
            "25000/25000 [==============================] - 2s 83us/sample - loss: 0.2141 - acc: 0.9523 - val_loss: 0.4172 - val_acc: 0.8711\n"
          ],
          "name": "stdout"
        }
      ]
    },
    {
      "cell_type": "code",
      "metadata": {
        "id": "zgrg0_08sP_W",
        "colab_type": "code",
        "colab": {
          "base_uri": "https://localhost:8080/",
          "height": 279
        },
        "outputId": "57ff6f78-49f4-4393-8525-4138fb4184bf"
      },
      "source": [
        "l1_model_val_loss = l1_model_hist.history['val_loss']\n",
        "\n",
        "plt.plot(epochs, original_val_loss, 'b+', label='Original model')\n",
        "plt.plot(epochs, l1_model_val_loss, 'bo', label='L1-regularized model')\n",
        "plt.xlabel('Epochs')\n",
        "plt.ylabel('Validation loss')\n",
        "plt.legend()\n",
        "\n",
        "plt.show()"
      ],
      "execution_count": 21,
      "outputs": [
        {
          "output_type": "display_data",
          "data": {
            "image/png": "[encoded data removed]",
            "text/plain": [
              "<Figure size 432x288 with 1 Axes>"
            ]
          },
          "metadata": {
            "tags": []
          }
        }
      ]
    },
    {
      "cell_type": "code",
      "metadata": {
        "id": "q1arvMWLsmCn",
        "colab_type": "code",
        "colab": {}
      },
      "source": [
        "l1l2_model = models.Sequential()\n",
        "l1l2_model.add(layers.Dense(16, kernel_regularizer=regularizers.l1_l2(l1=0.0001, l2=0.0001),\n",
        "                            activation='relu', input_shape=(10000,)))\n",
        "l1l2_model.add(layers.Dense(16, kernel_regularizer=regularizers.l1_l2(l1=0.0001, l2=0.0001),\n",
        "                            activation='relu'))\n",
        "l1l2_model.add(layers.Dense(1, activation='sigmoid'))"
      ],
      "execution_count": 0,
      "outputs": []
    },
    {
      "cell_type": "code",
      "metadata": {
        "id": "6cZJjEShsn9X",
        "colab_type": "code",
        "colab": {}
      },
      "source": [
        "l1l2_model.compile(optimizer='rmsprop',\n",
        "                   loss='binary_crossentropy',\n",
        "                   metrics=['acc'])"
      ],
      "execution_count": 0,
      "outputs": []
    },
    {
      "cell_type": "code",
      "metadata": {
        "id": "PF3w-Bkkspy2",
        "colab_type": "code",
        "colab": {
          "base_uri": "https://localhost:8080/",
          "height": 755
        },
        "outputId": "7c3625ef-5edc-4af6-f4de-52c3139596a0"
      },
      "source": [
        "l1l2_model_hist = l1l2_model.fit(x_train, y_train,\n",
        "                                 epochs=20,\n",
        "                                 batch_size=512,\n",
        "                                 validation_data=(x_test, y_test))"
      ],
      "execution_count": 24,
      "outputs": [
        {
          "output_type": "stream",
          "text": [
            "Train on 25000 samples, validate on 25000 samples\n",
            "Epoch 1/20\n",
            "25000/25000 [==============================] - 3s 109us/sample - loss: 0.5747 - acc: 0.8108 - val_loss: 0.4367 - val_acc: 0.8787\n",
            "Epoch 2/20\n",
            "25000/25000 [==============================] - 2s 83us/sample - loss: 0.3776 - acc: 0.8954 - val_loss: 0.3827 - val_acc: 0.8805\n",
            "Epoch 3/20\n",
            "25000/25000 [==============================] - 2s 85us/sample - loss: 0.3320 - acc: 0.9057 - val_loss: 0.3571 - val_acc: 0.8888\n",
            "Epoch 4/20\n",
            "25000/25000 [==============================] - 2s 83us/sample - loss: 0.3134 - acc: 0.9114 - val_loss: 0.3550 - val_acc: 0.8883\n",
            "Epoch 5/20\n",
            "25000/25000 [==============================] - 2s 83us/sample - loss: 0.3005 - acc: 0.9162 - val_loss: 0.3622 - val_acc: 0.8861\n",
            "Epoch 6/20\n",
            "25000/25000 [==============================] - 2s 82us/sample - loss: 0.2921 - acc: 0.9190 - val_loss: 0.3665 - val_acc: 0.8844\n",
            "Epoch 7/20\n",
            "25000/25000 [==============================] - 2s 84us/sample - loss: 0.2860 - acc: 0.9237 - val_loss: 0.3894 - val_acc: 0.8745\n",
            "Epoch 8/20\n",
            "25000/25000 [==============================] - 2s 83us/sample - loss: 0.2833 - acc: 0.9235 - val_loss: 0.3709 - val_acc: 0.8824\n",
            "Epoch 9/20\n",
            "25000/25000 [==============================] - 2s 83us/sample - loss: 0.2797 - acc: 0.9264 - val_loss: 0.3739 - val_acc: 0.8836\n",
            "Epoch 10/20\n",
            "25000/25000 [==============================] - 2s 82us/sample - loss: 0.2742 - acc: 0.9282 - val_loss: 0.3818 - val_acc: 0.8803\n",
            "Epoch 11/20\n",
            "25000/25000 [==============================] - 2s 83us/sample - loss: 0.2724 - acc: 0.9291 - val_loss: 0.3798 - val_acc: 0.8816\n",
            "Epoch 12/20\n",
            "25000/25000 [==============================] - 2s 83us/sample - loss: 0.2679 - acc: 0.9310 - val_loss: 0.3858 - val_acc: 0.8789\n",
            "Epoch 13/20\n",
            "25000/25000 [==============================] - 2s 83us/sample - loss: 0.2653 - acc: 0.9308 - val_loss: 0.3850 - val_acc: 0.8794\n",
            "Epoch 14/20\n",
            "25000/25000 [==============================] - 2s 82us/sample - loss: 0.2639 - acc: 0.9324 - val_loss: 0.3870 - val_acc: 0.8778\n",
            "Epoch 15/20\n",
            "25000/25000 [==============================] - 2s 82us/sample - loss: 0.2550 - acc: 0.9358 - val_loss: 0.4193 - val_acc: 0.8688\n",
            "Epoch 16/20\n",
            "25000/25000 [==============================] - 2s 83us/sample - loss: 0.2528 - acc: 0.9364 - val_loss: 0.4129 - val_acc: 0.8702\n",
            "Epoch 17/20\n",
            "25000/25000 [==============================] - 2s 82us/sample - loss: 0.2492 - acc: 0.9360 - val_loss: 0.4048 - val_acc: 0.8742\n",
            "Epoch 18/20\n",
            "25000/25000 [==============================] - 2s 83us/sample - loss: 0.2476 - acc: 0.9399 - val_loss: 0.4382 - val_acc: 0.8646\n",
            "Epoch 19/20\n",
            "25000/25000 [==============================] - 2s 82us/sample - loss: 0.2429 - acc: 0.9421 - val_loss: 0.4035 - val_acc: 0.8749\n",
            "Epoch 20/20\n",
            "25000/25000 [==============================] - 2s 81us/sample - loss: 0.2410 - acc: 0.9418 - val_loss: 0.4393 - val_acc: 0.8658\n"
          ],
          "name": "stdout"
        }
      ]
    },
    {
      "cell_type": "code",
      "metadata": {
        "id": "Z1ck8fClvKDH",
        "colab_type": "code",
        "colab": {}
      },
      "source": [
        "dpt_model = models.Sequential()\n",
        "dpt_model.add(layers.Dense(16, activation='relu', input_shape=(10000,)))\n",
        "dpt_model.add(layers.Dropout(0.5))\n",
        "dpt_model.add(layers.Dense(16, activation='relu'))\n",
        "dpt_model.add(layers.Dropout(0.5))\n",
        "dpt_model.add(layers.Dense(1, activation='sigmoid'))\n",
        "\n",
        "dpt_model.compile(optimizer='rmsprop',\n",
        "                  loss='binary_crossentropy',\n",
        "                  metrics=['acc'])"
      ],
      "execution_count": 0,
      "outputs": []
    },
    {
      "cell_type": "code",
      "metadata": {
        "id": "1lAVJ5dZvLOf",
        "colab_type": "code",
        "colab": {
          "base_uri": "https://localhost:8080/",
          "height": 755
        },
        "outputId": "86999117-6bc0-49bc-e756-061c6bed1f4d"
      },
      "source": [
        "dpt_model_hist = dpt_model.fit(x_train, y_train,\n",
        "                               epochs=20,\n",
        "                               batch_size=512,\n",
        "                               validation_data=(x_test, y_test))"
      ],
      "execution_count": 26,
      "outputs": [
        {
          "output_type": "stream",
          "text": [
            "Train on 25000 samples, validate on 25000 samples\n",
            "Epoch 1/20\n",
            "25000/25000 [==============================] - 3s 120us/sample - loss: 0.6071 - acc: 0.6803 - val_loss: 0.4998 - val_acc: 0.8420\n",
            "Epoch 2/20\n",
            "25000/25000 [==============================] - 2s 84us/sample - loss: 0.4717 - acc: 0.8117 - val_loss: 0.3775 - val_acc: 0.8815\n",
            "Epoch 3/20\n",
            "25000/25000 [==============================] - 2s 82us/sample - loss: 0.3828 - acc: 0.8641 - val_loss: 0.3281 - val_acc: 0.8873\n",
            "Epoch 4/20\n",
            "25000/25000 [==============================] - 2s 82us/sample - loss: 0.3270 - acc: 0.8929 - val_loss: 0.2974 - val_acc: 0.8886\n",
            "Epoch 5/20\n",
            "25000/25000 [==============================] - 2s 83us/sample - loss: 0.2868 - acc: 0.9065 - val_loss: 0.3009 - val_acc: 0.8879\n",
            "Epoch 6/20\n",
            "25000/25000 [==============================] - 2s 83us/sample - loss: 0.2559 - acc: 0.9212 - val_loss: 0.2947 - val_acc: 0.8816\n",
            "Epoch 7/20\n",
            "25000/25000 [==============================] - 2s 84us/sample - loss: 0.2286 - acc: 0.9271 - val_loss: 0.3045 - val_acc: 0.8868\n",
            "Epoch 8/20\n",
            "25000/25000 [==============================] - 2s 84us/sample - loss: 0.2108 - acc: 0.9346 - val_loss: 0.3173 - val_acc: 0.8850\n",
            "Epoch 9/20\n",
            "25000/25000 [==============================] - 2s 82us/sample - loss: 0.1924 - acc: 0.9410 - val_loss: 0.3509 - val_acc: 0.8819\n",
            "Epoch 10/20\n",
            "25000/25000 [==============================] - 2s 82us/sample - loss: 0.1809 - acc: 0.9449 - val_loss: 0.4116 - val_acc: 0.8768\n",
            "Epoch 11/20\n",
            "25000/25000 [==============================] - 2s 83us/sample - loss: 0.1660 - acc: 0.9505 - val_loss: 0.3982 - val_acc: 0.8780\n",
            "Epoch 12/20\n",
            "25000/25000 [==============================] - 2s 84us/sample - loss: 0.1582 - acc: 0.9518 - val_loss: 0.3906 - val_acc: 0.8784\n",
            "Epoch 13/20\n",
            "25000/25000 [==============================] - 2s 83us/sample - loss: 0.1500 - acc: 0.9548 - val_loss: 0.4368 - val_acc: 0.8778\n",
            "Epoch 14/20\n",
            "25000/25000 [==============================] - 2s 82us/sample - loss: 0.1447 - acc: 0.9572 - val_loss: 0.4583 - val_acc: 0.8745\n",
            "Epoch 15/20\n",
            "25000/25000 [==============================] - 2s 83us/sample - loss: 0.1323 - acc: 0.9626 - val_loss: 0.5145 - val_acc: 0.8744\n",
            "Epoch 16/20\n",
            "25000/25000 [==============================] - 2s 83us/sample - loss: 0.1327 - acc: 0.9608 - val_loss: 0.4947 - val_acc: 0.8732\n",
            "Epoch 17/20\n",
            "25000/25000 [==============================] - 2s 83us/sample - loss: 0.1262 - acc: 0.9648 - val_loss: 0.6356 - val_acc: 0.8685\n",
            "Epoch 18/20\n",
            "25000/25000 [==============================] - 2s 83us/sample - loss: 0.1282 - acc: 0.9639 - val_loss: 0.6022 - val_acc: 0.8720\n",
            "Epoch 19/20\n",
            "25000/25000 [==============================] - 2s 83us/sample - loss: 0.1198 - acc: 0.9674 - val_loss: 0.5484 - val_acc: 0.8706\n",
            "Epoch 20/20\n",
            "25000/25000 [==============================] - 2s 83us/sample - loss: 0.1187 - acc: 0.9675 - val_loss: 0.5745 - val_acc: 0.8704\n"
          ],
          "name": "stdout"
        }
      ]
    },
    {
      "cell_type": "code",
      "metadata": {
        "id": "zYg3azE3vcc3",
        "colab_type": "code",
        "colab": {
          "base_uri": "https://localhost:8080/",
          "height": 279
        },
        "outputId": "07d124ab-485d-470a-8ed6-1a52c49d224b"
      },
      "source": [
        "dpt_model_val_loss = dpt_model_hist.history['val_loss']\n",
        "\n",
        "plt.plot(epochs, original_val_loss, 'b+', label='Original model')\n",
        "plt.plot(epochs, dpt_model_val_loss, 'bo', label='Dropout-regularized model')\n",
        "plt.xlabel('Epochs')\n",
        "plt.ylabel('Validation loss')\n",
        "plt.legend()\n",
        "\n",
        "plt.show()"
      ],
      "execution_count": 27,
      "outputs": [
        {
          "output_type": "display_data",
          "data": {
            "image/png": "[encoded data removed]",
            "text/plain": [
              "<Figure size 432x288 with 1 Axes>"
            ]
          },
          "metadata": {
            "tags": []
          }
        }
      ]
    }
  ]
}