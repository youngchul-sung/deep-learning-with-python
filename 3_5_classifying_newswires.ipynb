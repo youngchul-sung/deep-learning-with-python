{
  "nbformat": 4,
  "nbformat_minor": 0,
  "metadata": {
    "colab": {
      "name": "3.5-classifying-newswires",
      "provenance": [],
      "include_colab_link": true
    },
    "kernelspec": {
      "name": "python3",
      "display_name": "Python 3"
    }
  },
  "cells": [
    {
      "cell_type": "markdown",
      "metadata": {
        "id": "view-in-github",
        "colab_type": "text"
      },
      "source": [
        "<a href=\"https://colab.research.google.com/github/youngchul-sung/deep-learning-with-python/blob/master/3_5_classifying_newswires.ipynb\" target=\"_parent\"><img src=\"https://colab.research.google.com/assets/colab-badge.svg\" alt=\"Open In Colab\"/></a>"
      ]
    },
    {
      "cell_type": "code",
      "metadata": {
        "id": "oCyGynhTgEM-",
        "colab_type": "code",
        "colab": {
          "base_uri": "https://localhost:8080/",
          "height": 53
        },
        "outputId": "d220bbce-a48e-4273-90b4-069ee4f81fe7"
      },
      "source": [
        "%tensorflow_version 2.x\n",
        "\n",
        "from tensorflow import keras\n",
        "keras.__version__"
      ],
      "execution_count": 1,
      "outputs": [
        {
          "output_type": "stream",
          "text": [
            "TensorFlow 2.x selected.\n"
          ],
          "name": "stdout"
        },
        {
          "output_type": "execute_result",
          "data": {
            "text/plain": [
              "'2.2.4-tf'"
            ]
          },
          "metadata": {
            "tags": []
          },
          "execution_count": 1
        }
      ]
    },
    {
      "cell_type": "code",
      "metadata": {
        "id": "9cLM887LhgYB",
        "colab_type": "code",
        "colab": {}
      },
      "source": [
        "from tensorflow.keras.datasets import reuters\n",
        "\n",
        "(train_data, train_labels), (test_data, test_labels) = reuters.load_data(num_words=10000)"
      ],
      "execution_count": 0,
      "outputs": []
    },
    {
      "cell_type": "code",
      "metadata": {
        "id": "Acm_vc5Vhrj4",
        "colab_type": "code",
        "colab": {
          "base_uri": "https://localhost:8080/",
          "height": 35
        },
        "outputId": "7728eec9-70a3-40fb-a48f-113e705da669"
      },
      "source": [
        "len(train_data)"
      ],
      "execution_count": 3,
      "outputs": [
        {
          "output_type": "execute_result",
          "data": {
            "text/plain": [
              "8982"
            ]
          },
          "metadata": {
            "tags": []
          },
          "execution_count": 3
        }
      ]
    },
    {
      "cell_type": "code",
      "metadata": {
        "id": "PNHtQieqhswR",
        "colab_type": "code",
        "colab": {
          "base_uri": "https://localhost:8080/",
          "height": 35
        },
        "outputId": "7beed566-19aa-43b4-ac77-d4398ec1e3b5"
      },
      "source": [
        "len(test_data)"
      ],
      "execution_count": 4,
      "outputs": [
        {
          "output_type": "execute_result",
          "data": {
            "text/plain": [
              "2246"
            ]
          },
          "metadata": {
            "tags": []
          },
          "execution_count": 4
        }
      ]
    },
    {
      "cell_type": "code",
      "metadata": {
        "id": "aTPNTitQht9A",
        "colab_type": "code",
        "colab": {
          "base_uri": "https://localhost:8080/",
          "height": 575
        },
        "outputId": "636ca276-6e2e-42c6-b389-b1298c250a7c"
      },
      "source": [
        "train_data[10]"
      ],
      "execution_count": 5,
      "outputs": [
        {
          "output_type": "execute_result",
          "data": {
            "text/plain": [
              "[1,\n",
              " 245,\n",
              " 273,\n",
              " 207,\n",
              " 156,\n",
              " 53,\n",
              " 74,\n",
              " 160,\n",
              " 26,\n",
              " 14,\n",
              " 46,\n",
              " 296,\n",
              " 26,\n",
              " 39,\n",
              " 74,\n",
              " 2979,\n",
              " 3554,\n",
              " 14,\n",
              " 46,\n",
              " 4689,\n",
              " 4329,\n",
              " 86,\n",
              " 61,\n",
              " 3499,\n",
              " 4795,\n",
              " 14,\n",
              " 61,\n",
              " 451,\n",
              " 4329,\n",
              " 17,\n",
              " 12]"
            ]
          },
          "metadata": {
            "tags": []
          },
          "execution_count": 5
        }
      ]
    },
    {
      "cell_type": "code",
      "metadata": {
        "id": "ixXpE7gLhvBA",
        "colab_type": "code",
        "colab": {}
      },
      "source": [
        "word_index = reuters.get_word_index()\n",
        "reverse_word_index = dict([(value, key) for (key, value) in word_index.items()])\n",
        "# 0, 1, 2는 '패딩', '문서 시작', '사전에 없음'을 위한 인덱스이므로 3을 뺍니다\n",
        "decoded_newswire = ' '.join([reverse_word_index.get(i - 3, '?') for i in train_data[0]])"
      ],
      "execution_count": 0,
      "outputs": []
    },
    {
      "cell_type": "code",
      "metadata": {
        "id": "0RdDohhlh1MI",
        "colab_type": "code",
        "colab": {
          "base_uri": "https://localhost:8080/",
          "height": 55
        },
        "outputId": "eae70680-23d4-46dc-a33d-b7fc4c0a5c66"
      },
      "source": [
        "decoded_newswire"
      ],
      "execution_count": 7,
      "outputs": [
        {
          "output_type": "execute_result",
          "data": {
            "text/plain": [
              "'? ? ? said as a result of its december acquisition of space co it expects earnings per share in 1987 of 1 15 to 1 30 dlrs per share up from 70 cts in 1986 the company said pretax net should rise to nine to 10 mln dlrs from six mln dlrs in 1986 and rental operation revenues to 19 to 22 mln dlrs from 12 5 mln dlrs it said cash flow per share this year should be 2 50 to three dlrs reuter 3'"
            ]
          },
          "metadata": {
            "tags": []
          },
          "execution_count": 7
        }
      ]
    },
    {
      "cell_type": "code",
      "metadata": {
        "id": "cpckVuMHh5o4",
        "colab_type": "code",
        "colab": {
          "base_uri": "https://localhost:8080/",
          "height": 35
        },
        "outputId": "6de25868-4b52-4b3f-94c2-4d24b77be3b8"
      },
      "source": [
        "train_labels[10]"
      ],
      "execution_count": 8,
      "outputs": [
        {
          "output_type": "execute_result",
          "data": {
            "text/plain": [
              "3"
            ]
          },
          "metadata": {
            "tags": []
          },
          "execution_count": 8
        }
      ]
    },
    {
      "cell_type": "code",
      "metadata": {
        "id": "Z4fKF74eh7fg",
        "colab_type": "code",
        "colab": {}
      },
      "source": [
        "import numpy as np\n",
        "\n",
        "def vectorize_sequences(sequences, dimension=10000):\n",
        "    results = np.zeros((len(sequences), dimension))\n",
        "    for i, sequence in enumerate(sequences):\n",
        "        results[i, sequence] = 1.\n",
        "    return results\n",
        "\n",
        "# 훈련 데이터 벡터 변환\n",
        "x_train = vectorize_sequences(train_data)\n",
        "# 테스트 데이터 벡터 변환\n",
        "x_test = vectorize_sequences(test_data)"
      ],
      "execution_count": 0,
      "outputs": []
    },
    {
      "cell_type": "code",
      "metadata": {
        "id": "qwuMyOOYh_Ca",
        "colab_type": "code",
        "colab": {}
      },
      "source": [
        "# def to_one_hot(labels, dimension=46):\n",
        "#     results = np.zeros((len(labels), dimension))\n",
        "#     for i, label in enumerate(labels):\n",
        "#         results[i, label] = 1.\n",
        "#     return results\n",
        "\n",
        "# # 훈련 레이블 벡터 변환\n",
        "# one_hot_train_labels = to_one_hot(train_labels)\n",
        "# # 테스트 레이블 벡터 변환\n",
        "# one_hot_test_labels = to_one_hot(test_labels)\n",
        "\n",
        "from tensorflow.keras.utils import to_categorical\n",
        "\n",
        "one_hot_train_labels = to_categorical(train_labels)\n",
        "one_hot_test_labels = to_categorical(test_labels)"
      ],
      "execution_count": 0,
      "outputs": []
    },
    {
      "cell_type": "code",
      "metadata": {
        "id": "WNfqVorqibAh",
        "colab_type": "code",
        "colab": {}
      },
      "source": [
        "from tensorflow.keras import models, layers\n",
        "\n",
        "model = models.Sequential()\n",
        "model.add(layers.Dense(64, activation='relu', input_shape=(10000,)))\n",
        "model.add(layers.Dense(64, activation='relu'))\n",
        "model.add(layers.Dense(46, activation='softmax'))"
      ],
      "execution_count": 0,
      "outputs": []
    },
    {
      "cell_type": "code",
      "metadata": {
        "id": "AVmXC6lGid9w",
        "colab_type": "code",
        "colab": {}
      },
      "source": [
        "model.compile(optimizer='rmsprop',\n",
        "              loss='categorical_crossentropy',\n",
        "              metrics=['accuracy'])"
      ],
      "execution_count": 0,
      "outputs": []
    },
    {
      "cell_type": "code",
      "metadata": {
        "id": "y29XlwjRihzw",
        "colab_type": "code",
        "colab": {}
      },
      "source": [
        "x_val = x_train[:1000]\n",
        "partial_x_train = x_train[1000:]\n",
        "\n",
        "y_val = one_hot_train_labels[:1000]\n",
        "partial_y_train = one_hot_train_labels[1000:]"
      ],
      "execution_count": 0,
      "outputs": []
    },
    {
      "cell_type": "code",
      "metadata": {
        "id": "DWKzLiiUiioY",
        "colab_type": "code",
        "colab": {
          "base_uri": "https://localhost:8080/",
          "height": 755
        },
        "outputId": "0a08c955-dc66-458e-98fc-eb3a6b909eff"
      },
      "source": [
        "history = model.fit(partial_x_train,\n",
        "                    partial_y_train,\n",
        "                    epochs=20,\n",
        "                    batch_size=512,\n",
        "                    validation_data=(x_val, y_val))"
      ],
      "execution_count": 14,
      "outputs": [
        {
          "output_type": "stream",
          "text": [
            "Train on 7982 samples, validate on 1000 samples\n",
            "Epoch 1/20\n",
            "7982/7982 [==============================] - 1s 181us/sample - loss: 2.6469 - accuracy: 0.5172 - val_loss: 1.7720 - val_accuracy: 0.6270\n",
            "Epoch 2/20\n",
            "7982/7982 [==============================] - 1s 120us/sample - loss: 1.4349 - accuracy: 0.6982 - val_loss: 1.3334 - val_accuracy: 0.7070\n",
            "Epoch 3/20\n",
            "7982/7982 [==============================] - 1s 121us/sample - loss: 1.0648 - accuracy: 0.7717 - val_loss: 1.1449 - val_accuracy: 0.7500\n",
            "Epoch 4/20\n",
            "7982/7982 [==============================] - 1s 125us/sample - loss: 0.8377 - accuracy: 0.8220 - val_loss: 1.0513 - val_accuracy: 0.7810\n",
            "Epoch 5/20\n",
            "7982/7982 [==============================] - 1s 118us/sample - loss: 0.6638 - accuracy: 0.8566 - val_loss: 0.9749 - val_accuracy: 0.7940\n",
            "Epoch 6/20\n",
            "7982/7982 [==============================] - 1s 120us/sample - loss: 0.5306 - accuracy: 0.8916 - val_loss: 0.9365 - val_accuracy: 0.7970\n",
            "Epoch 7/20\n",
            "7982/7982 [==============================] - 1s 119us/sample - loss: 0.4223 - accuracy: 0.9137 - val_loss: 0.9328 - val_accuracy: 0.8070\n",
            "Epoch 8/20\n",
            "7982/7982 [==============================] - 1s 117us/sample - loss: 0.3427 - accuracy: 0.9303 - val_loss: 0.8924 - val_accuracy: 0.8150\n",
            "Epoch 9/20\n",
            "7982/7982 [==============================] - 1s 117us/sample - loss: 0.2821 - accuracy: 0.9400 - val_loss: 0.8952 - val_accuracy: 0.8210\n",
            "Epoch 10/20\n",
            "7982/7982 [==============================] - 1s 119us/sample - loss: 0.2390 - accuracy: 0.9464 - val_loss: 0.9533 - val_accuracy: 0.8040\n",
            "Epoch 11/20\n",
            "7982/7982 [==============================] - 1s 119us/sample - loss: 0.2048 - accuracy: 0.9480 - val_loss: 0.9225 - val_accuracy: 0.8150\n",
            "Epoch 12/20\n",
            "7982/7982 [==============================] - 1s 118us/sample - loss: 0.1831 - accuracy: 0.9521 - val_loss: 0.9626 - val_accuracy: 0.8190\n",
            "Epoch 13/20\n",
            "7982/7982 [==============================] - 1s 118us/sample - loss: 0.1643 - accuracy: 0.9545 - val_loss: 0.9699 - val_accuracy: 0.8050\n",
            "Epoch 14/20\n",
            "7982/7982 [==============================] - 1s 119us/sample - loss: 0.1487 - accuracy: 0.9541 - val_loss: 0.9799 - val_accuracy: 0.8100\n",
            "Epoch 15/20\n",
            "7982/7982 [==============================] - 1s 118us/sample - loss: 0.1382 - accuracy: 0.9540 - val_loss: 1.0503 - val_accuracy: 0.8140\n",
            "Epoch 16/20\n",
            "7982/7982 [==============================] - 1s 120us/sample - loss: 0.1393 - accuracy: 0.9526 - val_loss: 1.0440 - val_accuracy: 0.8090\n",
            "Epoch 17/20\n",
            "7982/7982 [==============================] - 1s 119us/sample - loss: 0.1243 - accuracy: 0.9577 - val_loss: 1.0048 - val_accuracy: 0.8160\n",
            "Epoch 18/20\n",
            "7982/7982 [==============================] - 1s 119us/sample - loss: 0.1203 - accuracy: 0.9562 - val_loss: 1.0912 - val_accuracy: 0.8010\n",
            "Epoch 19/20\n",
            "7982/7982 [==============================] - 1s 121us/sample - loss: 0.1156 - accuracy: 0.9573 - val_loss: 1.0784 - val_accuracy: 0.8110\n",
            "Epoch 20/20\n",
            "7982/7982 [==============================] - 1s 116us/sample - loss: 0.1128 - accuracy: 0.9574 - val_loss: 1.0887 - val_accuracy: 0.8110\n"
          ],
          "name": "stdout"
        }
      ]
    },
    {
      "cell_type": "code",
      "metadata": {
        "id": "8uQGnDngip4w",
        "colab_type": "code",
        "colab": {
          "base_uri": "https://localhost:8080/",
          "height": 295
        },
        "outputId": "7764eef6-8bda-462c-d92c-11dc7944d74a"
      },
      "source": [
        "import matplotlib.pyplot as plt\n",
        "\n",
        "loss = history.history['loss']\n",
        "val_loss = history.history['val_loss']\n",
        "\n",
        "epochs = range(1, len(loss) + 1)\n",
        "\n",
        "plt.plot(epochs, loss, 'bo', label='Training loss')\n",
        "plt.plot(epochs, val_loss, 'b', label='Validation loss')\n",
        "plt.title('Training and validation loss')\n",
        "plt.xlabel('Epochs')\n",
        "plt.ylabel('Loss')\n",
        "plt.legend()\n",
        "\n",
        "plt.show()"
      ],
      "execution_count": 15,
      "outputs": [
        {
          "output_type": "display_data",
          "data": {
            "image/png": "[encoded data removed]",
            "text/plain": [
              "<Figure size 432x288 with 1 Axes>"
            ]
          },
          "metadata": {
            "tags": []
          }
        }
      ]
    },
    {
      "cell_type": "code",
      "metadata": {
        "id": "zalySYR9itOI",
        "colab_type": "code",
        "colab": {
          "base_uri": "https://localhost:8080/",
          "height": 295
        },
        "outputId": "2540db86-cd3c-48e4-9e0a-9a560dd4a4be"
      },
      "source": [
        "plt.clf()   # 그래프를 초기화합니다\n",
        "\n",
        "acc = history.history['accuracy']\n",
        "val_acc = history.history['val_accuracy']\n",
        "\n",
        "plt.plot(epochs, acc, 'bo', label='Training acc')\n",
        "plt.plot(epochs, val_acc, 'b', label='Validation acc')\n",
        "plt.title('Training and validation accuracy')\n",
        "plt.xlabel('Epochs')\n",
        "plt.ylabel('Accuracy')\n",
        "plt.legend()\n",
        "\n",
        "plt.show()"
      ],
      "execution_count": 16,
      "outputs": [
        {
          "output_type": "display_data",
          "data": {
            "image/png": "[encoded data removed]",
            "text/plain": [
              "<Figure size 432x288 with 1 Axes>"
            ]
          },
          "metadata": {
            "tags": []
          }
        }
      ]
    },
    {
      "cell_type": "code",
      "metadata": {
        "id": "8AB3to_Mi3Lg",
        "colab_type": "code",
        "colab": {
          "base_uri": "https://localhost:8080/",
          "height": 377
        },
        "outputId": "c03ad468-8d44-490d-acde-e224f8bd65d3"
      },
      "source": [
        "model = models.Sequential()\n",
        "model.add(layers.Dense(64, activation='relu', input_shape=(10000,)))\n",
        "model.add(layers.Dense(64, activation='relu'))\n",
        "model.add(layers.Dense(46, activation='softmax'))\n",
        "\n",
        "model.compile(optimizer='rmsprop',\n",
        "              loss='categorical_crossentropy',\n",
        "              metrics=['accuracy'])\n",
        "model.fit(partial_x_train,\n",
        "          partial_y_train,\n",
        "          epochs=9,\n",
        "          batch_size=512,\n",
        "          validation_data=(x_val, y_val))\n",
        "results = model.evaluate(x_test, one_hot_test_labels)"
      ],
      "execution_count": 17,
      "outputs": [
        {
          "output_type": "stream",
          "text": [
            "Train on 7982 samples, validate on 1000 samples\n",
            "Epoch 1/9\n",
            "7982/7982 [==============================] - 1s 173us/sample - loss: 2.5688 - accuracy: 0.5308 - val_loss: 1.7325 - val_accuracy: 0.6550\n",
            "Epoch 2/9\n",
            "7982/7982 [==============================] - 1s 118us/sample - loss: 1.4204 - accuracy: 0.7077 - val_loss: 1.3041 - val_accuracy: 0.7120\n",
            "Epoch 3/9\n",
            "7982/7982 [==============================] - 1s 119us/sample - loss: 1.0530 - accuracy: 0.7727 - val_loss: 1.1463 - val_accuracy: 0.7490\n",
            "Epoch 4/9\n",
            "7982/7982 [==============================] - 1s 120us/sample - loss: 0.8333 - accuracy: 0.8245 - val_loss: 1.0546 - val_accuracy: 0.7730\n",
            "Epoch 5/9\n",
            "7982/7982 [==============================] - 1s 118us/sample - loss: 0.6706 - accuracy: 0.8606 - val_loss: 0.9705 - val_accuracy: 0.8050\n",
            "Epoch 6/9\n",
            "7982/7982 [==============================] - 1s 123us/sample - loss: 0.5406 - accuracy: 0.8880 - val_loss: 0.9269 - val_accuracy: 0.8100\n",
            "Epoch 7/9\n",
            "7982/7982 [==============================] - 1s 119us/sample - loss: 0.4406 - accuracy: 0.9110 - val_loss: 0.9109 - val_accuracy: 0.8190\n",
            "Epoch 8/9\n",
            "7982/7982 [==============================] - 1s 118us/sample - loss: 0.3576 - accuracy: 0.9246 - val_loss: 0.9394 - val_accuracy: 0.8130\n",
            "Epoch 9/9\n",
            "7982/7982 [==============================] - 1s 115us/sample - loss: 0.2971 - accuracy: 0.9377 - val_loss: 0.9280 - val_accuracy: 0.8130\n",
            "2246/2246 [==============================] - 0s 106us/sample - loss: 1.0153 - accuracy: 0.7792\n"
          ],
          "name": "stdout"
        }
      ]
    },
    {
      "cell_type": "code",
      "metadata": {
        "id": "c6LMbrSGi66g",
        "colab_type": "code",
        "colab": {
          "base_uri": "https://localhost:8080/",
          "height": 35
        },
        "outputId": "7e0937ca-e60b-445f-f5c7-2a6b9bbc4abd"
      },
      "source": [
        "results"
      ],
      "execution_count": 18,
      "outputs": [
        {
          "output_type": "execute_result",
          "data": {
            "text/plain": [
              "[1.0152764127175933, 0.77916294]"
            ]
          },
          "metadata": {
            "tags": []
          },
          "execution_count": 18
        }
      ]
    },
    {
      "cell_type": "code",
      "metadata": {
        "id": "oMZCsgwKi_bY",
        "colab_type": "code",
        "colab": {
          "base_uri": "https://localhost:8080/",
          "height": 35
        },
        "outputId": "7165aee2-43dd-49f9-b185-6314c2118d7a"
      },
      "source": [
        "import copy\n",
        "\n",
        "test_labels_copy = copy.copy(test_labels)\n",
        "np.random.shuffle(test_labels_copy)\n",
        "float(np.sum(np.array(test_labels) == np.array(test_labels_copy))) / len(test_labels)"
      ],
      "execution_count": 19,
      "outputs": [
        {
          "output_type": "execute_result",
          "data": {
            "text/plain": [
              "0.18432769367764915"
            ]
          },
          "metadata": {
            "tags": []
          },
          "execution_count": 19
        }
      ]
    },
    {
      "cell_type": "code",
      "metadata": {
        "id": "1DqHZ24zjB3A",
        "colab_type": "code",
        "colab": {}
      },
      "source": [
        "predictions = model.predict(x_test)"
      ],
      "execution_count": 0,
      "outputs": []
    },
    {
      "cell_type": "code",
      "metadata": {
        "id": "JUTiCgnXjM8w",
        "colab_type": "code",
        "colab": {
          "base_uri": "https://localhost:8080/",
          "height": 35
        },
        "outputId": "a3baccc1-392d-452f-e987-1ba4a4ec2c76"
      },
      "source": [
        "predictions[0].shape"
      ],
      "execution_count": 21,
      "outputs": [
        {
          "output_type": "execute_result",
          "data": {
            "text/plain": [
              "(46,)"
            ]
          },
          "metadata": {
            "tags": []
          },
          "execution_count": 21
        }
      ]
    },
    {
      "cell_type": "code",
      "metadata": {
        "id": "lvAulySijOeI",
        "colab_type": "code",
        "colab": {
          "base_uri": "https://localhost:8080/",
          "height": 35
        },
        "outputId": "1bcc8283-bbc5-4233-9129-e5a046e6432e"
      },
      "source": [
        "np.sum(predictions[0])"
      ],
      "execution_count": 22,
      "outputs": [
        {
          "output_type": "execute_result",
          "data": {
            "text/plain": [
              "0.99999994"
            ]
          },
          "metadata": {
            "tags": []
          },
          "execution_count": 22
        }
      ]
    },
    {
      "cell_type": "code",
      "metadata": {
        "id": "C6GxqrmhjP7A",
        "colab_type": "code",
        "colab": {
          "base_uri": "https://localhost:8080/",
          "height": 35
        },
        "outputId": "a340020c-5fae-4128-b267-4e829e42fe37"
      },
      "source": [
        "np.argmax(predictions[0])"
      ],
      "execution_count": 23,
      "outputs": [
        {
          "output_type": "execute_result",
          "data": {
            "text/plain": [
              "3"
            ]
          },
          "metadata": {
            "tags": []
          },
          "execution_count": 23
        }
      ]
    },
    {
      "cell_type": "code",
      "metadata": {
        "id": "127ylekZjTBo",
        "colab_type": "code",
        "colab": {}
      },
      "source": [
        "y_train = np.array(train_labels)\n",
        "y_test = np.array(test_labels)"
      ],
      "execution_count": 0,
      "outputs": []
    },
    {
      "cell_type": "code",
      "metadata": {
        "id": "K5je1OamjVKA",
        "colab_type": "code",
        "colab": {}
      },
      "source": [
        "model.compile(optimizer='rmsprop', loss='sparse_categorical_crossentropy', metrics=['acc'])"
      ],
      "execution_count": 0,
      "outputs": []
    },
    {
      "cell_type": "code",
      "metadata": {
        "id": "jE-XLMnKjYnx",
        "colab_type": "code",
        "colab": {
          "base_uri": "https://localhost:8080/",
          "height": 773
        },
        "outputId": "ec5b4405-b784-4a7d-b29f-7840dc0df8ee"
      },
      "source": [
        "model = models.Sequential()\n",
        "model.add(layers.Dense(64, activation='relu', input_shape=(10000,)))\n",
        "model.add(layers.Dense(4, activation='relu'))\n",
        "model.add(layers.Dense(46, activation='softmax'))\n",
        "\n",
        "model.compile(optimizer='rmsprop',\n",
        "              loss='categorical_crossentropy',\n",
        "              metrics=['accuracy'])\n",
        "model.fit(partial_x_train,\n",
        "          partial_y_train,\n",
        "          epochs=20,\n",
        "          batch_size=128,\n",
        "          validation_data=(x_val, y_val))"
      ],
      "execution_count": 26,
      "outputs": [
        {
          "output_type": "stream",
          "text": [
            "Train on 7982 samples, validate on 1000 samples\n",
            "Epoch 1/20\n",
            "7982/7982 [==============================] - 2s 215us/sample - loss: 2.8404 - accuracy: 0.2369 - val_loss: 2.0099 - val_accuracy: 0.5960\n",
            "Epoch 2/20\n",
            "7982/7982 [==============================] - 1s 155us/sample - loss: 1.6014 - accuracy: 0.6337 - val_loss: 1.4606 - val_accuracy: 0.6320\n",
            "Epoch 3/20\n",
            "7982/7982 [==============================] - 1s 156us/sample - loss: 1.2672 - accuracy: 0.6610 - val_loss: 1.3420 - val_accuracy: 0.6580\n",
            "Epoch 4/20\n",
            "7982/7982 [==============================] - 1s 155us/sample - loss: 1.1052 - accuracy: 0.7016 - val_loss: 1.2833 - val_accuracy: 0.6700\n",
            "Epoch 5/20\n",
            "7982/7982 [==============================] - 1s 156us/sample - loss: 0.9831 - accuracy: 0.7446 - val_loss: 1.2586 - val_accuracy: 0.6990\n",
            "Epoch 6/20\n",
            "7982/7982 [==============================] - 1s 159us/sample - loss: 0.8834 - accuracy: 0.7667 - val_loss: 1.2307 - val_accuracy: 0.7100\n",
            "Epoch 7/20\n",
            "7982/7982 [==============================] - 1s 160us/sample - loss: 0.8035 - accuracy: 0.7821 - val_loss: 1.2355 - val_accuracy: 0.7140\n",
            "Epoch 8/20\n",
            "7982/7982 [==============================] - 1s 160us/sample - loss: 0.7386 - accuracy: 0.7914 - val_loss: 1.2257 - val_accuracy: 0.7290\n",
            "Epoch 9/20\n",
            "7982/7982 [==============================] - 1s 156us/sample - loss: 0.6858 - accuracy: 0.8004 - val_loss: 1.2734 - val_accuracy: 0.7190\n",
            "Epoch 10/20\n",
            "7982/7982 [==============================] - 1s 155us/sample - loss: 0.6384 - accuracy: 0.8130 - val_loss: 1.3075 - val_accuracy: 0.7230\n",
            "Epoch 11/20\n",
            "7982/7982 [==============================] - 1s 154us/sample - loss: 0.5984 - accuracy: 0.8296 - val_loss: 1.3113 - val_accuracy: 0.7310\n",
            "Epoch 12/20\n",
            "7982/7982 [==============================] - 1s 156us/sample - loss: 0.5642 - accuracy: 0.8429 - val_loss: 1.3783 - val_accuracy: 0.7280\n",
            "Epoch 13/20\n",
            "7982/7982 [==============================] - 1s 159us/sample - loss: 0.5339 - accuracy: 0.8507 - val_loss: 1.4014 - val_accuracy: 0.7240\n",
            "Epoch 14/20\n",
            "7982/7982 [==============================] - 1s 160us/sample - loss: 0.5078 - accuracy: 0.8573 - val_loss: 1.4739 - val_accuracy: 0.7210\n",
            "Epoch 15/20\n",
            "7982/7982 [==============================] - 1s 155us/sample - loss: 0.4819 - accuracy: 0.8663 - val_loss: 1.5261 - val_accuracy: 0.7210\n",
            "Epoch 16/20\n",
            "7982/7982 [==============================] - 1s 152us/sample - loss: 0.4612 - accuracy: 0.8752 - val_loss: 1.5936 - val_accuracy: 0.7190\n",
            "Epoch 17/20\n",
            "7982/7982 [==============================] - 1s 158us/sample - loss: 0.4436 - accuracy: 0.8786 - val_loss: 1.6124 - val_accuracy: 0.7170\n",
            "Epoch 18/20\n",
            "7982/7982 [==============================] - 1s 156us/sample - loss: 0.4264 - accuracy: 0.8817 - val_loss: 1.7139 - val_accuracy: 0.7140\n",
            "Epoch 19/20\n",
            "7982/7982 [==============================] - 1s 157us/sample - loss: 0.4103 - accuracy: 0.8824 - val_loss: 1.7601 - val_accuracy: 0.7150\n",
            "Epoch 20/20\n",
            "7982/7982 [==============================] - 1s 156us/sample - loss: 0.4004 - accuracy: 0.8850 - val_loss: 1.7799 - val_accuracy: 0.7200\n"
          ],
          "name": "stdout"
        },
        {
          "output_type": "execute_result",
          "data": {
            "text/plain": [
              "<tensorflow.python.keras.callbacks.History at 0x7f5fb94a4390>"
            ]
          },
          "metadata": {
            "tags": []
          },
          "execution_count": 26
        }
      ]
    }
  ]
}