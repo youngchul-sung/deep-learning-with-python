{
  "nbformat": 4,
  "nbformat_minor": 0,
  "metadata": {
    "colab": {
      "name": "6.1-using-word-embeddings",
      "provenance": [],
      "include_colab_link": true
    },
    "kernelspec": {
      "name": "python3",
      "display_name": "Python 3"
    },
    "accelerator": "GPU"
  },
  "cells": [
    {
      "cell_type": "markdown",
      "metadata": {
        "id": "view-in-github",
        "colab_type": "text"
      },
      "source": [
        "<a href=\"https://colab.research.google.com/github/youngchul-sung/deep-learning-with-python/blob/master/6_1_using_word_embeddings.ipynb\" target=\"_parent\"><img src=\"https://colab.research.google.com/assets/colab-badge.svg\" alt=\"Open In Colab\"/></a>"
      ]
    },
    {
      "cell_type": "code",
      "metadata": {
        "id": "Fifumptot05w",
        "colab_type": "code",
        "colab": {
          "base_uri": "https://localhost:8080/",
          "height": 53
        },
        "outputId": "15cb05a7-9fb8-4b94-fc74-b9917afd7df8"
      },
      "source": [
        "%tensorflow_version 2.x\n",
        "\n",
        "from tensorflow import keras\n",
        "keras.__version__"
      ],
      "execution_count": 1,
      "outputs": [
        {
          "output_type": "stream",
          "text": [
            "TensorFlow 2.x selected.\n"
          ],
          "name": "stdout"
        },
        {
          "output_type": "execute_result",
          "data": {
            "text/plain": [
              "'2.2.4-tf'"
            ]
          },
          "metadata": {
            "tags": []
          },
          "execution_count": 1
        }
      ]
    },
    {
      "cell_type": "code",
      "metadata": {
        "id": "gvThYn4QvRlk",
        "colab_type": "code",
        "colab": {}
      },
      "source": [
        "from tensorflow.keras.layers import Embedding\n",
        "\n",
        "# Embedding 층은 적어도 두 개의 매개변수를 받습니다.\n",
        "# 가능한 토큰의 개수(여기서는 1,000으로 단어 인덱스 최댓값 + 1입니다)와 임베딩 차원(여기서는 64)입니다\n",
        "embedding_layer = Embedding(1000, 64)"
      ],
      "execution_count": 0,
      "outputs": []
    },
    {
      "cell_type": "code",
      "metadata": {
        "id": "1BUVJw7fvpJT",
        "colab_type": "code",
        "colab": {}
      },
      "source": [
        "from tensorflow.keras.datasets import imdb\n",
        "from tensorflow.keras import preprocessing\n",
        "\n",
        "# 특성으로 사용할 단어의 수\n",
        "max_features = 10000\n",
        "# 사용할 텍스트의 길이(가장 빈번한 max_features 개의 단어만 사용합니다)\n",
        "maxlen = 20\n",
        "\n",
        "# 정수 리스트로 데이터를 로드합니다.\n",
        "(x_train, y_train), (x_test, y_test) = imdb.load_data(num_words=max_features)\n",
        "\n",
        "# 리스트를 (samples, maxlen) 크기의 2D 정수 텐서로 변환합니다.\n",
        "x_train = preprocessing.sequence.pad_sequences(x_train, maxlen=maxlen)\n",
        "x_test = preprocessing.sequence.pad_sequences(x_test, maxlen=maxlen)"
      ],
      "execution_count": 0,
      "outputs": []
    },
    {
      "cell_type": "code",
      "metadata": {
        "id": "qMZCnmgEx3eT",
        "colab_type": "code",
        "colab": {
          "base_uri": "https://localhost:8080/",
          "height": 647
        },
        "outputId": "0414e0bb-6283-409a-ae65-229ea33f47e5"
      },
      "source": [
        "from tensorflow.keras.models import Sequential\n",
        "from tensorflow.keras.layers import Flatten, Dense, Embedding\n",
        "\n",
        "model = Sequential()\n",
        "# 나중에 임베딩된 입력을 Flatten 층에서 펼치기 위해 Embedding 층에 input_length를 지정합니다.\n",
        "model.add(Embedding(10000, 8, input_length=maxlen))\n",
        "# Embedding 층의 출력 크기는 (samples, maxlen, 8)가 됩니다.\n",
        "\n",
        "# 3D 임베딩 텐서를 (samples, maxlen * 8) 크기의 2D 텐서로 펼칩니다.\n",
        "model.add(Flatten())\n",
        "\n",
        "# 분류기를 추가합니다.\n",
        "model.add(Dense(1, activation='sigmoid'))\n",
        "model.compile(optimizer='rmsprop', loss='binary_crossentropy', metrics=['acc'])\n",
        "model.summary()\n",
        "\n",
        "history = model.fit(x_train, y_train,\n",
        "                    epochs=10,\n",
        "                    batch_size=32,\n",
        "                    validation_split=0.2)"
      ],
      "execution_count": 4,
      "outputs": [
        {
          "output_type": "stream",
          "text": [
            "Model: \"sequential\"\n",
            "_________________________________________________________________\n",
            "Layer (type)                 Output Shape              Param #   \n",
            "=================================================================\n",
            "embedding_1 (Embedding)      (None, 20, 8)             80000     \n",
            "_________________________________________________________________\n",
            "flatten (Flatten)            (None, 160)               0         \n",
            "_________________________________________________________________\n",
            "dense (Dense)                (None, 1)                 161       \n",
            "=================================================================\n",
            "Total params: 80,161\n",
            "Trainable params: 80,161\n",
            "Non-trainable params: 0\n",
            "_________________________________________________________________\n",
            "Train on 20000 samples, validate on 5000 samples\n",
            "Epoch 1/10\n",
            "20000/20000 [==============================] - 3s 135us/sample - loss: 0.6674 - acc: 0.6266 - val_loss: 0.6166 - val_acc: 0.6936\n",
            "Epoch 2/10\n",
            "20000/20000 [==============================] - 2s 103us/sample - loss: 0.5379 - acc: 0.7550 - val_loss: 0.5250 - val_acc: 0.7302\n",
            "Epoch 3/10\n",
            "20000/20000 [==============================] - 2s 104us/sample - loss: 0.4586 - acc: 0.7911 - val_loss: 0.4983 - val_acc: 0.7484\n",
            "Epoch 4/10\n",
            "20000/20000 [==============================] - 2s 103us/sample - loss: 0.4192 - acc: 0.8086 - val_loss: 0.4915 - val_acc: 0.7552\n",
            "Epoch 5/10\n",
            "20000/20000 [==============================] - 2s 104us/sample - loss: 0.3916 - acc: 0.8267 - val_loss: 0.4926 - val_acc: 0.7578\n",
            "Epoch 6/10\n",
            "20000/20000 [==============================] - 2s 105us/sample - loss: 0.3688 - acc: 0.8379 - val_loss: 0.4954 - val_acc: 0.7582\n",
            "Epoch 7/10\n",
            "20000/20000 [==============================] - 2s 103us/sample - loss: 0.3479 - acc: 0.8501 - val_loss: 0.4995 - val_acc: 0.7554\n",
            "Epoch 8/10\n",
            "20000/20000 [==============================] - 2s 107us/sample - loss: 0.3284 - acc: 0.8614 - val_loss: 0.5073 - val_acc: 0.7528\n",
            "Epoch 9/10\n",
            "20000/20000 [==============================] - 2s 104us/sample - loss: 0.3100 - acc: 0.8709 - val_loss: 0.5150 - val_acc: 0.7506\n",
            "Epoch 10/10\n",
            "20000/20000 [==============================] - 2s 104us/sample - loss: 0.2924 - acc: 0.8811 - val_loss: 0.5234 - val_acc: 0.7518\n"
          ],
          "name": "stdout"
        }
      ]
    },
    {
      "cell_type": "code",
      "metadata": {
        "id": "OpqmQ_KBy8xb",
        "colab_type": "code",
        "colab": {}
      },
      "source": [
        "import os\n",
        "\n",
        "if not os.path.exists('deep-learning-with-python-notebooks'):\n",
        "    !git clone https://github.com/rickiepark/deep-learning-with-python-notebooks.git"
      ],
      "execution_count": 0,
      "outputs": []
    },
    {
      "cell_type": "code",
      "metadata": {
        "id": "8tvcg4n7zBC7",
        "colab_type": "code",
        "colab": {}
      },
      "source": [
        "import os\n",
        "\n",
        "imdb_dir = 'deep-learning-with-python-notebooks/datasets/aclImdb'\n",
        "train_dir = os.path.join(imdb_dir, 'train')\n",
        "\n",
        "labels = []\n",
        "texts = []\n",
        "\n",
        "for label_type in ['neg', 'pos']:\n",
        "    dir_name = os.path.join(train_dir, label_type)\n",
        "    for fname in os.listdir(dir_name):\n",
        "        if fname[-4:] == '.txt':\n",
        "            f = open(os.path.join(dir_name, fname), encoding='utf8')\n",
        "            texts.append(f.read())\n",
        "            f.close()\n",
        "            if label_type == 'neg':\n",
        "                labels.append(0)\n",
        "            else:\n",
        "                labels.append(1)"
      ],
      "execution_count": 0,
      "outputs": []
    },
    {
      "cell_type": "code",
      "metadata": {
        "id": "Chj19SXw0aG6",
        "colab_type": "code",
        "colab": {
          "base_uri": "https://localhost:8080/",
          "height": 71
        },
        "outputId": "1abc45c5-575c-413c-b2bf-cce008996c83"
      },
      "source": [
        "from tensorflow.keras.preprocessing.text import Tokenizer\n",
        "from tensorflow.keras.preprocessing.sequence import pad_sequences\n",
        "import numpy as np\n",
        "\n",
        "maxlen = 100  # 100개 단어 이후는 버립니다\n",
        "training_samples = 200  # 훈련 샘플은 200개입니다\n",
        "validation_samples = 10000  # 검증 샘플은 10,000개입니다\n",
        "max_words = 10000  # 데이터셋에서 가장 빈도 높은 10,000개의 단어만 사용합니다\n",
        "\n",
        "tokenizer = Tokenizer(num_words=max_words)\n",
        "tokenizer.fit_on_texts(texts)\n",
        "sequences = tokenizer.texts_to_sequences(texts)\n",
        "\n",
        "word_index = tokenizer.word_index\n",
        "print('%s개의 고유한 토큰을 찾았습니다.' % len(word_index))\n",
        "\n",
        "data = pad_sequences(sequences, maxlen=maxlen)\n",
        "\n",
        "labels = np.asarray(labels)\n",
        "print('데이터 텐서의 크기:', data.shape)\n",
        "print('레이블 텐서의 크기:', labels.shape)\n",
        "\n",
        "# 데이터를 훈련 세트와 검증 세트로 분할합니다.\n",
        "# 샘플이 순서대로 있기 때문에 (부정 샘플이 모두 나온 후에 긍정 샘플이 옵니다) \n",
        "# 먼저 데이터를 섞습니다.\n",
        "indices = np.arange(data.shape[0])\n",
        "np.random.shuffle(indices)\n",
        "data = data[indices]\n",
        "labels = labels[indices]\n",
        "\n",
        "x_train = data[:training_samples]\n",
        "y_train = labels[:training_samples]\n",
        "x_val = data[training_samples: training_samples + validation_samples]\n",
        "y_val = labels[training_samples: training_samples + validation_samples]"
      ],
      "execution_count": 7,
      "outputs": [
        {
          "output_type": "stream",
          "text": [
            "88582개의 고유한 토큰을 찾았습니다.\n",
            "데이터 텐서의 크기: (25000, 100)\n",
            "레이블 텐서의 크기: (25000,)\n"
          ],
          "name": "stdout"
        }
      ]
    },
    {
      "cell_type": "code",
      "metadata": {
        "id": "PFRFFCuH1eXq",
        "colab_type": "code",
        "colab": {
          "base_uri": "https://localhost:8080/",
          "height": 377
        },
        "outputId": "e3d22c52-cc89-4542-a226-fa59e87069a7"
      },
      "source": [
        "!wget http://nlp.stanford.edu/data/glove.6B.zip"
      ],
      "execution_count": 8,
      "outputs": [
        {
          "output_type": "stream",
          "text": [
            "--2020-01-07 04:45:26--  http://nlp.stanford.edu/data/glove.6B.zip\n",
            "Resolving nlp.stanford.edu (nlp.stanford.edu)... 171.64.67.140\n",
            "Connecting to nlp.stanford.edu (nlp.stanford.edu)|171.64.67.140|:80... connected.\n",
            "HTTP request sent, awaiting response... 302 Found\n",
            "Location: https://nlp.stanford.edu/data/glove.6B.zip [following]\n",
            "--2020-01-07 04:45:26--  https://nlp.stanford.edu/data/glove.6B.zip\n",
            "Connecting to nlp.stanford.edu (nlp.stanford.edu)|171.64.67.140|:443... connected.\n",
            "HTTP request sent, awaiting response... 301 Moved Permanently\n",
            "Location: http://downloads.cs.stanford.edu/nlp/data/glove.6B.zip [following]\n",
            "--2020-01-07 04:45:26--  http://downloads.cs.stanford.edu/nlp/data/glove.6B.zip\n",
            "Resolving downloads.cs.stanford.edu (downloads.cs.stanford.edu)... 171.64.64.22\n",
            "Connecting to downloads.cs.stanford.edu (downloads.cs.stanford.edu)|171.64.64.22|:80... connected.\n",
            "HTTP request sent, awaiting response... 200 OK\n",
            "Length: 862182613 (822M) [application/zip]\n",
            "Saving to: ‘glove.6B.zip.1’\n",
            "\n",
            "glove.6B.zip.1      100%[===================>] 822.24M  2.06MB/s    in 6m 26s  \n",
            "\n",
            "2020-01-07 04:51:53 (2.13 MB/s) - ‘glove.6B.zip.1’ saved [862182613/862182613]\n",
            "\n"
          ],
          "name": "stdout"
        }
      ]
    },
    {
      "cell_type": "code",
      "metadata": {
        "id": "ejWtHoz6BRr3",
        "colab_type": "code",
        "colab": {
          "base_uri": "https://localhost:8080/",
          "height": 107
        },
        "outputId": "c6aaa355-ad57-4bfe-b2a9-349f81cff346"
      },
      "source": [
        "if os.path.exists('datasets'):\n",
        "    !rm -rf datasets\n",
        "!mkdir -p datasets\n",
        "!unzip glove.6B.zip -d datasets/"
      ],
      "execution_count": 9,
      "outputs": [
        {
          "output_type": "stream",
          "text": [
            "Archive:  glove.6B.zip\n",
            "  inflating: datasets/glove.6B.50d.txt  \n",
            "  inflating: datasets/glove.6B.100d.txt  \n",
            "  inflating: datasets/glove.6B.200d.txt  \n",
            "  inflating: datasets/glove.6B.300d.txt  \n"
          ],
          "name": "stdout"
        }
      ]
    },
    {
      "cell_type": "code",
      "metadata": {
        "id": "Wwl0buFhCjGg",
        "colab_type": "code",
        "colab": {
          "base_uri": "https://localhost:8080/",
          "height": 35
        },
        "outputId": "9148b952-299e-45a9-880e-4c992285e48f"
      },
      "source": [
        "glove_dir = './datasets/'\n",
        "\n",
        "embeddings_index = {}\n",
        "f = open(os.path.join(glove_dir, 'glove.6B.100d.txt'), encoding=\"utf8\")\n",
        "for line in f:\n",
        "    values = line.split()\n",
        "    word = values[0]\n",
        "    coefs = np.asarray(values[1:], dtype='float32')\n",
        "    embeddings_index[word] = coefs\n",
        "f.close()\n",
        "\n",
        "print('%s개의 단어 벡터를 찾았습니다.' % len(embeddings_index))"
      ],
      "execution_count": 10,
      "outputs": [
        {
          "output_type": "stream",
          "text": [
            "400000개의 단어 벡터를 찾았습니다.\n"
          ],
          "name": "stdout"
        }
      ]
    },
    {
      "cell_type": "code",
      "metadata": {
        "id": "R8lcHezAGrvs",
        "colab_type": "code",
        "colab": {
          "base_uri": "https://localhost:8080/",
          "height": 251
        },
        "outputId": "d2afd498-1d5b-45bc-b8f5-c1fb392880a0"
      },
      "source": [
        "embedding_dim = 100\n",
        "\n",
        "embedding_matrix = np.zeros((max_words, embedding_dim))\n",
        "for word, i in word_index.items():\n",
        "    embedding_vector = embeddings_index.get(word)\n",
        "    if i < max_words:\n",
        "        if embedding_vector is not None:\n",
        "            # 임베딩 인덱스에 없는 단어는 모두 0이 됩니다.\n",
        "            embedding_matrix[i] = embedding_vector\n",
        "\n",
        "print(embedding_matrix)"
      ],
      "execution_count": 11,
      "outputs": [
        {
          "output_type": "stream",
          "text": [
            "[[ 0.          0.          0.         ...  0.          0.\n",
            "   0.        ]\n",
            " [-0.038194   -0.24487001  0.72812003 ... -0.1459      0.82779998\n",
            "   0.27061999]\n",
            " [-0.071953    0.23127     0.023731   ... -0.71894997  0.86894\n",
            "   0.19539   ]\n",
            " ...\n",
            " [-0.52879    -0.40274     0.40680999 ...  0.27641001 -0.04436\n",
            "   0.049429  ]\n",
            " [ 1.21309996  0.29394999 -0.38936001 ... -0.33770001 -0.0080789\n",
            "   0.19728   ]\n",
            " [ 0.40788001 -0.38429001  0.064732   ... -0.0042547   0.64194\n",
            "   0.65912002]]\n"
          ],
          "name": "stdout"
        }
      ]
    },
    {
      "cell_type": "code",
      "metadata": {
        "id": "1bPtPiXNG5Qb",
        "colab_type": "code",
        "colab": {
          "base_uri": "https://localhost:8080/",
          "height": 305
        },
        "outputId": "d0511209-2892-4dc1-c01d-51f7e06d624b"
      },
      "source": [
        "from tensorflow.keras.models import Sequential\n",
        "from tensorflow.keras.layers import Embedding, Flatten, Dense\n",
        "\n",
        "model = Sequential()\n",
        "model.add(Embedding(max_words, embedding_dim, input_length=maxlen))\n",
        "model.add(Flatten())\n",
        "model.add(Dense(32, activation='relu'))\n",
        "model.add(Dense(1, activation='sigmoid'))\n",
        "model.summary()"
      ],
      "execution_count": 12,
      "outputs": [
        {
          "output_type": "stream",
          "text": [
            "Model: \"sequential_1\"\n",
            "_________________________________________________________________\n",
            "Layer (type)                 Output Shape              Param #   \n",
            "=================================================================\n",
            "embedding_2 (Embedding)      (None, 100, 100)          1000000   \n",
            "_________________________________________________________________\n",
            "flatten_1 (Flatten)          (None, 10000)             0         \n",
            "_________________________________________________________________\n",
            "dense_1 (Dense)              (None, 32)                320032    \n",
            "_________________________________________________________________\n",
            "dense_2 (Dense)              (None, 1)                 33        \n",
            "=================================================================\n",
            "Total params: 1,320,065\n",
            "Trainable params: 1,320,065\n",
            "Non-trainable params: 0\n",
            "_________________________________________________________________\n"
          ],
          "name": "stdout"
        }
      ]
    },
    {
      "cell_type": "code",
      "metadata": {
        "id": "B2yoRG6vHAtT",
        "colab_type": "code",
        "colab": {}
      },
      "source": [
        "model.layers[0].set_weights([embedding_matrix])\n",
        "model.layers[0].trainable = False"
      ],
      "execution_count": 0,
      "outputs": []
    },
    {
      "cell_type": "code",
      "metadata": {
        "id": "rCn3gFR_LfjL",
        "colab_type": "code",
        "colab": {
          "base_uri": "https://localhost:8080/",
          "height": 395
        },
        "outputId": "d72d4e93-6292-4d37-b139-7e79c81c924d"
      },
      "source": [
        "model.compile(optimizer='rmsprop',\n",
        "              loss='binary_crossentropy',\n",
        "              metrics=['acc'])\n",
        "history = model.fit(x_train, y_train,\n",
        "                    epochs=10,\n",
        "                    batch_size=32,\n",
        "                    validation_data=(x_val, y_val))\n",
        "model.save_weights('pre_trained_glove_model.h5')"
      ],
      "execution_count": 14,
      "outputs": [
        {
          "output_type": "stream",
          "text": [
            "Train on 200 samples, validate on 10000 samples\n",
            "Epoch 1/10\n",
            "200/200 [==============================] - 1s 6ms/sample - loss: 1.8825 - acc: 0.4600 - val_loss: 0.8611 - val_acc: 0.5048\n",
            "Epoch 2/10\n",
            "200/200 [==============================] - 1s 4ms/sample - loss: 0.5004 - acc: 0.7150 - val_loss: 0.6886 - val_acc: 0.5587\n",
            "Epoch 3/10\n",
            "200/200 [==============================] - 1s 4ms/sample - loss: 0.3510 - acc: 0.9050 - val_loss: 0.9696 - val_acc: 0.5059\n",
            "Epoch 4/10\n",
            "200/200 [==============================] - 1s 4ms/sample - loss: 0.2649 - acc: 0.9200 - val_loss: 0.6824 - val_acc: 0.5782\n",
            "Epoch 5/10\n",
            "200/200 [==============================] - 1s 4ms/sample - loss: 0.2950 - acc: 0.8650 - val_loss: 0.7083 - val_acc: 0.5621\n",
            "Epoch 6/10\n",
            "200/200 [==============================] - 1s 4ms/sample - loss: 0.1823 - acc: 0.9550 - val_loss: 1.3686 - val_acc: 0.4967\n",
            "Epoch 7/10\n",
            "200/200 [==============================] - 1s 4ms/sample - loss: 0.1417 - acc: 0.9600 - val_loss: 0.6974 - val_acc: 0.5759\n",
            "Epoch 8/10\n",
            "200/200 [==============================] - 1s 4ms/sample - loss: 0.0705 - acc: 1.0000 - val_loss: 0.8010 - val_acc: 0.5436\n",
            "Epoch 9/10\n",
            "200/200 [==============================] - 1s 4ms/sample - loss: 0.0640 - acc: 1.0000 - val_loss: 1.1048 - val_acc: 0.5097\n",
            "Epoch 10/10\n",
            "200/200 [==============================] - 1s 4ms/sample - loss: 0.1470 - acc: 0.9750 - val_loss: 0.7320 - val_acc: 0.5705\n"
          ],
          "name": "stdout"
        }
      ]
    },
    {
      "cell_type": "code",
      "metadata": {
        "id": "hcW0E1goL7Dw",
        "colab_type": "code",
        "colab": {}
      },
      "source": [
        "import matplotlib.pyplot as plt"
      ],
      "execution_count": 0,
      "outputs": []
    },
    {
      "cell_type": "code",
      "metadata": {
        "id": "qrIMu_MuL8To",
        "colab_type": "code",
        "colab": {
          "base_uri": "https://localhost:8080/",
          "height": 545
        },
        "outputId": "ad0066c9-c68d-4144-9c26-fd7ebd4eb87b"
      },
      "source": [
        "acc = history.history['acc']\n",
        "val_acc = history.history['val_acc']\n",
        "loss = history.history['loss']\n",
        "val_loss = history.history['val_loss']\n",
        "\n",
        "epochs = range(1, len(acc) + 1)\n",
        "\n",
        "plt.plot(epochs, acc, 'bo', label='Training acc')\n",
        "plt.plot(epochs, val_acc, 'b', label='Validation acc')\n",
        "plt.title('Training and validation accuracy')\n",
        "plt.legend()\n",
        "\n",
        "plt.figure()\n",
        "\n",
        "plt.plot(epochs, loss, 'bo', label='Training loss')\n",
        "plt.plot(epochs, val_loss, 'b', label='Validation loss')\n",
        "plt.title('Training and validation loss')\n",
        "plt.legend()\n",
        "\n",
        "plt.show()"
      ],
      "execution_count": 16,
      "outputs": [
        {
          "output_type": "display_data",
          "data": {
            "image/png": "[encoded data removed]",
            "text/plain": [
              "<Figure size 432x288 with 1 Axes>"
            ]
          },
          "metadata": {
            "tags": []
          }
        },
        {
          "output_type": "display_data",
          "data": {
            "image/png": "[encoded data removed]",
            "text/plain": [
              "<Figure size 432x288 with 1 Axes>"
            ]
          },
          "metadata": {
            "tags": []
          }
        }
      ]
    },
    {
      "cell_type": "code",
      "metadata": {
        "id": "V71FSONLMMAB",
        "colab_type": "code",
        "colab": {
          "base_uri": "https://localhost:8080/",
          "height": 683
        },
        "outputId": "d386f174-bb6b-453b-c025-e5a70bc31bf9"
      },
      "source": [
        "from tensorflow.keras.models import Sequential\n",
        "from tensorflow.keras.layers import Embedding, Flatten, Dense\n",
        "\n",
        "model = Sequential()\n",
        "model.add(Embedding(max_words, embedding_dim, input_length=maxlen))\n",
        "model.add(Flatten())\n",
        "model.add(Dense(32, activation='relu'))\n",
        "model.add(Dense(1, activation='sigmoid'))\n",
        "model.summary()\n",
        "\n",
        "model.compile(optimizer='rmsprop',\n",
        "              loss='binary_crossentropy',\n",
        "              metrics=['acc'])\n",
        "history = model.fit(x_train, y_train,\n",
        "                    epochs=10,\n",
        "                    batch_size=32,\n",
        "                    validation_data=(x_val, y_val))"
      ],
      "execution_count": 17,
      "outputs": [
        {
          "output_type": "stream",
          "text": [
            "Model: \"sequential_2\"\n",
            "_________________________________________________________________\n",
            "Layer (type)                 Output Shape              Param #   \n",
            "=================================================================\n",
            "embedding_3 (Embedding)      (None, 100, 100)          1000000   \n",
            "_________________________________________________________________\n",
            "flatten_2 (Flatten)          (None, 10000)             0         \n",
            "_________________________________________________________________\n",
            "dense_3 (Dense)              (None, 32)                320032    \n",
            "_________________________________________________________________\n",
            "dense_4 (Dense)              (None, 1)                 33        \n",
            "=================================================================\n",
            "Total params: 1,320,065\n",
            "Trainable params: 1,320,065\n",
            "Non-trainable params: 0\n",
            "_________________________________________________________________\n",
            "Train on 200 samples, validate on 10000 samples\n",
            "Epoch 1/10\n",
            "200/200 [==============================] - 1s 6ms/sample - loss: 0.6930 - acc: 0.5300 - val_loss: 0.6919 - val_acc: 0.5165\n",
            "Epoch 2/10\n",
            "200/200 [==============================] - 1s 4ms/sample - loss: 0.4681 - acc: 0.9950 - val_loss: 0.6964 - val_acc: 0.5208\n",
            "Epoch 3/10\n",
            "200/200 [==============================] - 1s 4ms/sample - loss: 0.2554 - acc: 0.9900 - val_loss: 0.6989 - val_acc: 0.5160\n",
            "Epoch 4/10\n",
            "200/200 [==============================] - 1s 4ms/sample - loss: 0.1107 - acc: 1.0000 - val_loss: 0.7057 - val_acc: 0.5166\n",
            "Epoch 5/10\n",
            "200/200 [==============================] - 1s 4ms/sample - loss: 0.0528 - acc: 1.0000 - val_loss: 0.7089 - val_acc: 0.5167\n",
            "Epoch 6/10\n",
            "200/200 [==============================] - 1s 4ms/sample - loss: 0.0277 - acc: 1.0000 - val_loss: 0.7154 - val_acc: 0.5183\n",
            "Epoch 7/10\n",
            "200/200 [==============================] - 1s 4ms/sample - loss: 0.0153 - acc: 1.0000 - val_loss: 0.7158 - val_acc: 0.5235\n",
            "Epoch 8/10\n",
            "200/200 [==============================] - 1s 4ms/sample - loss: 0.0090 - acc: 1.0000 - val_loss: 0.7282 - val_acc: 0.5175\n",
            "Epoch 9/10\n",
            "200/200 [==============================] - 1s 4ms/sample - loss: 0.0054 - acc: 1.0000 - val_loss: 0.7253 - val_acc: 0.5245\n",
            "Epoch 10/10\n",
            "200/200 [==============================] - 1s 4ms/sample - loss: 0.0033 - acc: 1.0000 - val_loss: 0.7353 - val_acc: 0.5206\n"
          ],
          "name": "stdout"
        }
      ]
    },
    {
      "cell_type": "code",
      "metadata": {
        "id": "8ccByMSQPCgI",
        "colab_type": "code",
        "colab": {
          "base_uri": "https://localhost:8080/",
          "height": 545
        },
        "outputId": "f2559ba1-e2b5-4072-91ca-cdbe76986ee1"
      },
      "source": [
        "acc = history.history['acc']\n",
        "val_acc = history.history['val_acc']\n",
        "loss = history.history['loss']\n",
        "val_loss = history.history['val_loss']\n",
        "\n",
        "epochs = range(1, len(acc) + 1)\n",
        "\n",
        "plt.plot(epochs, acc, 'bo', label='Training acc')\n",
        "plt.plot(epochs, val_acc, 'b', label='Validation acc')\n",
        "plt.title('Training and validation accuracy')\n",
        "plt.legend()\n",
        "\n",
        "plt.figure()\n",
        "\n",
        "plt.plot(epochs, loss, 'bo', label='Training loss')\n",
        "plt.plot(epochs, val_loss, 'b', label='Validation loss')\n",
        "plt.title('Training and validation loss')\n",
        "plt.legend()\n",
        "\n",
        "plt.show()"
      ],
      "execution_count": 18,
      "outputs": [
        {
          "output_type": "display_data",
          "data": {
            "image/png": "[encoded data removed]",
            "text/plain": [
              "<Figure size 432x288 with 1 Axes>"
            ]
          },
          "metadata": {
            "tags": []
          }
        },
        {
          "output_type": "display_data",
          "data": {
            "image/png": "[encoded data removed]",
            "text/plain": [
              "<Figure size 432x288 with 1 Axes>"
            ]
          },
          "metadata": {
            "tags": []
          }
        }
      ]
    },
    {
      "cell_type": "code",
      "metadata": {
        "id": "h8Q4_4vcPHeG",
        "colab_type": "code",
        "colab": {}
      },
      "source": [
        "training_samples = 2000\n",
        "x_train = data[:training_samples]\n",
        "y_train = labels[:training_samples]\n",
        "x_val = data[training_samples: training_samples + validation_samples]\n",
        "y_val = labels[training_samples: training_samples + validation_samples]"
      ],
      "execution_count": 0,
      "outputs": []
    },
    {
      "cell_type": "code",
      "metadata": {
        "id": "d4UmUZ18PMzm",
        "colab_type": "code",
        "colab": {
          "base_uri": "https://localhost:8080/",
          "height": 395
        },
        "outputId": "f425fd90-7a1c-4933-faaa-f8d970b2ba38"
      },
      "source": [
        "history = model.fit(x_train, y_train,\n",
        "                    epochs=10,\n",
        "                    batch_size=32,\n",
        "                    validation_data=(x_val, y_val))"
      ],
      "execution_count": 20,
      "outputs": [
        {
          "output_type": "stream",
          "text": [
            "Train on 2000 samples, validate on 10000 samples\n",
            "Epoch 1/10\n",
            "2000/2000 [==============================] - 1s 644us/sample - loss: 0.6283 - acc: 0.6265 - val_loss: 0.6824 - val_acc: 0.5955\n",
            "Epoch 2/10\n",
            "2000/2000 [==============================] - 1s 643us/sample - loss: 0.1661 - acc: 0.9855 - val_loss: 0.6184 - val_acc: 0.6708\n",
            "Epoch 3/10\n",
            "2000/2000 [==============================] - 1s 654us/sample - loss: 0.0204 - acc: 1.0000 - val_loss: 0.6464 - val_acc: 0.6881\n",
            "Epoch 4/10\n",
            "2000/2000 [==============================] - 1s 623us/sample - loss: 0.0019 - acc: 1.0000 - val_loss: 0.7519 - val_acc: 0.6846\n",
            "Epoch 5/10\n",
            "2000/2000 [==============================] - 1s 627us/sample - loss: 1.2872e-04 - acc: 1.0000 - val_loss: 0.7769 - val_acc: 0.7060\n",
            "Epoch 6/10\n",
            "2000/2000 [==============================] - 1s 613us/sample - loss: 9.2269e-06 - acc: 1.0000 - val_loss: 0.8427 - val_acc: 0.7091\n",
            "Epoch 7/10\n",
            "2000/2000 [==============================] - 1s 606us/sample - loss: 7.8079e-07 - acc: 1.0000 - val_loss: 0.9205 - val_acc: 0.7107\n",
            "Epoch 8/10\n",
            "2000/2000 [==============================] - 1s 612us/sample - loss: 1.5533e-07 - acc: 1.0000 - val_loss: 0.9745 - val_acc: 0.7087\n",
            "Epoch 9/10\n",
            "2000/2000 [==============================] - 1s 601us/sample - loss: 5.2456e-08 - acc: 1.0000 - val_loss: 1.0134 - val_acc: 0.7092\n",
            "Epoch 10/10\n",
            "2000/2000 [==============================] - 1s 619us/sample - loss: 2.9306e-08 - acc: 1.0000 - val_loss: 1.0358 - val_acc: 0.7092\n"
          ],
          "name": "stdout"
        }
      ]
    },
    {
      "cell_type": "code",
      "metadata": {
        "id": "2pTePAV6TMQO",
        "colab_type": "code",
        "colab": {
          "base_uri": "https://localhost:8080/",
          "height": 545
        },
        "outputId": "b44a489a-1000-451a-e98f-1de7bde603a4"
      },
      "source": [
        "acc = history.history['acc']\n",
        "val_acc = history.history['val_acc']\n",
        "loss = history.history['loss']\n",
        "val_loss = history.history['val_loss']\n",
        "\n",
        "epochs = range(1, len(acc) + 1)\n",
        "\n",
        "plt.plot(epochs, acc, 'bo', label='Training acc')\n",
        "plt.plot(epochs, val_acc, 'b', label='Validation acc')\n",
        "plt.title('Training and validation accuracy')\n",
        "plt.legend()\n",
        "\n",
        "plt.figure()\n",
        "\n",
        "plt.plot(epochs, loss, 'bo', label='Training loss')\n",
        "plt.plot(epochs, val_loss, 'b', label='Validation loss')\n",
        "plt.title('Training and validation loss')\n",
        "plt.legend()\n",
        "\n",
        "plt.show()"
      ],
      "execution_count": 21,
      "outputs": [
        {
          "output_type": "display_data",
          "data": {
            "image/png": "[encoded data removed]",
            "text/plain": [
              "<Figure size 432x288 with 1 Axes>"
            ]
          },
          "metadata": {
            "tags": []
          }
        },
        {
          "output_type": "display_data",
          "data": {
            "image/png": "[encoded data removed]",
            "text/plain": [
              "<Figure size 432x288 with 1 Axes>"
            ]
          },
          "metadata": {
            "tags": []
          }
        }
      ]
    },
    {
      "cell_type": "code",
      "metadata": {
        "id": "OD6ziJ_ITO5E",
        "colab_type": "code",
        "colab": {}
      },
      "source": [
        "test_dir = os.path.join(imdb_dir, 'test')\n",
        "\n",
        "labels = []\n",
        "texts = []\n",
        "\n",
        "for label_type in ['neg', 'pos']:\n",
        "    dir_name = os.path.join(test_dir, label_type)\n",
        "    for fname in sorted(os.listdir(dir_name)):\n",
        "        if fname[-4:] == '.txt':\n",
        "            f = open(os.path.join(dir_name, fname), encoding=\"utf8\")\n",
        "            texts.append(f.read())\n",
        "            f.close()\n",
        "            if label_type == 'neg':\n",
        "                labels.append(0)\n",
        "            else:\n",
        "                labels.append(1)\n",
        "\n",
        "sequences = tokenizer.texts_to_sequences(texts)\n",
        "x_test = pad_sequences(sequences, maxlen=maxlen)\n",
        "y_test = np.asarray(labels)"
      ],
      "execution_count": 0,
      "outputs": []
    },
    {
      "cell_type": "code",
      "metadata": {
        "id": "VY5AO6C5T43d",
        "colab_type": "code",
        "colab": {
          "base_uri": "https://localhost:8080/",
          "height": 53
        },
        "outputId": "6b8ff035-dd45-44d2-b09a-f28dbb721295"
      },
      "source": [
        "model.load_weights('pre_trained_glove_model.h5')\n",
        "model.evaluate(x_test, y_test)"
      ],
      "execution_count": 23,
      "outputs": [
        {
          "output_type": "stream",
          "text": [
            "25000/25000 [==============================] - 2s 73us/sample - loss: 0.7361 - acc: 0.5703\n"
          ],
          "name": "stdout"
        },
        {
          "output_type": "execute_result",
          "data": {
            "text/plain": [
              "[0.7361268697738648, 0.57028]"
            ]
          },
          "metadata": {
            "tags": []
          },
          "execution_count": 23
        }
      ]
    }
  ]
}