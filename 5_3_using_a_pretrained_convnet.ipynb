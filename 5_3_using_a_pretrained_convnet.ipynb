{
  "nbformat": 4,
  "nbformat_minor": 0,
  "metadata": {
    "colab": {
      "name": "5.3-using-a-pretrained-convnet",
      "provenance": [],
      "toc_visible": true,
      "include_colab_link": true
    },
    "kernelspec": {
      "name": "python3",
      "display_name": "Python 3"
    },
    "accelerator": "GPU"
  },
  "cells": [
    {
      "cell_type": "markdown",
      "metadata": {
        "id": "view-in-github",
        "colab_type": "text"
      },
      "source": [
        "<a href=\"https://colab.research.google.com/github/youngchul-sung/deep-learning-with-python/blob/master/5_3_using_a_pretrained_convnet.ipynb\" target=\"_parent\"><img src=\"https://colab.research.google.com/assets/colab-badge.svg\" alt=\"Open In Colab\"/></a>"
      ]
    },
    {
      "cell_type": "code",
      "metadata": {
        "id": "6XfsxOQ-WDoG",
        "colab_type": "code",
        "colab": {
          "base_uri": "https://localhost:8080/",
          "height": 53
        },
        "outputId": "350e563f-89e0-4185-d4e3-2b7e1c5cd741"
      },
      "source": [
        "%tensorflow_version 2.x\n",
        "\n",
        "from tensorflow import keras\n",
        "keras.__version__"
      ],
      "execution_count": 1,
      "outputs": [
        {
          "output_type": "stream",
          "text": [
            "TensorFlow 2.x selected.\n"
          ],
          "name": "stdout"
        },
        {
          "output_type": "execute_result",
          "data": {
            "text/plain": [
              "'2.2.4-tf'"
            ]
          },
          "metadata": {
            "tags": []
          },
          "execution_count": 1
        }
      ]
    },
    {
      "cell_type": "code",
      "metadata": {
        "id": "X-u2lHz-a9AS",
        "colab_type": "code",
        "colab": {}
      },
      "source": [
        "import os\n",
        "\n",
        "if not os.path.exists('deep-learning-with-python-notebooks'):\n",
        "    !git clone https://github.com/rickiepark/deep-learning-with-python-notebooks.git"
      ],
      "execution_count": 0,
      "outputs": []
    },
    {
      "cell_type": "code",
      "metadata": {
        "id": "oZf7349Oa-JH",
        "colab_type": "code",
        "colab": {}
      },
      "source": [
        "import os, shutil\n",
        "\n",
        "# 원본 데이터셋을 압축 해제한 디렉터리 경로\n",
        "original_dataset_dir = 'deep-learning-with-python-notebooks/datasets/cats_and_dogs/train'\n",
        "\n",
        "# 소규모 데이터셋을 저장할 디렉터리\n",
        "base_dir = './datasets/cats_and_dogs_small'\n",
        "if os.path.exists(base_dir):  # 반복적인 실행을 위해 디렉토리를 삭제합니다.\n",
        "    shutil.rmtree(base_dir)   # 이 코드는 책에 포함되어 있지 않습니다.\n",
        "os.makedirs(base_dir, exist_ok=True)\n",
        "\n",
        "# 훈련, 검증, 테스트 분할을 위한 디렉터리\n",
        "train_dir = os.path.join(base_dir, 'train')\n",
        "os.mkdir(train_dir)\n",
        "validation_dir = os.path.join(base_dir, 'validation')\n",
        "os.mkdir(validation_dir)\n",
        "test_dir = os.path.join(base_dir, 'test')\n",
        "os.mkdir(test_dir)\n",
        "\n",
        "# 훈련용 고양이 사진 디렉터리\n",
        "train_cats_dir = os.path.join(train_dir, 'cats')\n",
        "os.mkdir(train_cats_dir)\n",
        "\n",
        "# 훈련용 강아지 사진 디렉터리\n",
        "train_dogs_dir = os.path.join(train_dir, 'dogs')\n",
        "os.mkdir(train_dogs_dir)\n",
        "\n",
        "# 검증용 고양이 사진 디렉터리\n",
        "validation_cats_dir = os.path.join(validation_dir, 'cats')\n",
        "os.mkdir(validation_cats_dir)\n",
        "\n",
        "# 검증용 강아지 사진 디렉터리\n",
        "validation_dogs_dir = os.path.join(validation_dir, 'dogs')\n",
        "os.mkdir(validation_dogs_dir)\n",
        "\n",
        "# 테스트용 고양이 사진 디렉터리\n",
        "test_cats_dir = os.path.join(test_dir, 'cats')\n",
        "os.mkdir(test_cats_dir)\n",
        "\n",
        "# 테스트용 강아지 사진 디렉터리\n",
        "test_dogs_dir = os.path.join(test_dir, 'dogs')\n",
        "os.mkdir(test_dogs_dir)\n",
        "\n",
        "# 처음 1,000개의 고양이 이미지를 train_cats_dir에 복사합니다\n",
        "fnames = ['cat.{}.jpg'.format(i) for i in range(1000)]\n",
        "for fname in fnames:\n",
        "    src = os.path.join(original_dataset_dir, fname)\n",
        "    dst = os.path.join(train_cats_dir, fname)\n",
        "    shutil.copyfile(src, dst)\n",
        "\n",
        "    # 다음 500개 고양이 이미지를 validation_cats_dir에 복사합니다\n",
        "fnames = ['cat.{}.jpg'.format(i) for i in range(1000, 1500)]\n",
        "for fname in fnames:\n",
        "    src = os.path.join(original_dataset_dir, fname)\n",
        "    dst = os.path.join(validation_cats_dir, fname)\n",
        "    shutil.copyfile(src, dst)\n",
        "    \n",
        "# 다음 500개 고양이 이미지를 test_cats_dir에 복사합니다\n",
        "fnames = ['cat.{}.jpg'.format(i) for i in range(1500, 2000)]\n",
        "for fname in fnames:\n",
        "    src = os.path.join(original_dataset_dir, fname)\n",
        "    dst = os.path.join(test_cats_dir, fname)\n",
        "    shutil.copyfile(src, dst)\n",
        "    \n",
        "# 처음 1,000개의 강아지 이미지를 train_dogs_dir에 복사합니다\n",
        "fnames = ['dog.{}.jpg'.format(i) for i in range(1000)]\n",
        "for fname in fnames:\n",
        "    src = os.path.join(original_dataset_dir, fname)\n",
        "    dst = os.path.join(train_dogs_dir, fname)\n",
        "    shutil.copyfile(src, dst)\n",
        "    \n",
        "# 다음 500개 강아지 이미지를 validation_dogs_dir에 복사합니다\n",
        "fnames = ['dog.{}.jpg'.format(i) for i in range(1000, 1500)]\n",
        "for fname in fnames:\n",
        "    src = os.path.join(original_dataset_dir, fname)\n",
        "    dst = os.path.join(validation_dogs_dir, fname)\n",
        "    shutil.copyfile(src, dst)\n",
        "    \n",
        "# 다음 500개 강아지 이미지를 test_dogs_dir에 복사합니다\n",
        "fnames = ['dog.{}.jpg'.format(i) for i in range(1500, 2000)]\n",
        "for fname in fnames:\n",
        "    src = os.path.join(original_dataset_dir, fname)\n",
        "    dst = os.path.join(test_dogs_dir, fname)\n",
        "    shutil.copyfile(src, dst)"
      ],
      "execution_count": 0,
      "outputs": []
    },
    {
      "cell_type": "code",
      "metadata": {
        "id": "BnnBoCi1WY_O",
        "colab_type": "code",
        "colab": {}
      },
      "source": [
        "from tensorflow.keras.applications import VGG16\n",
        "\n",
        "conv_base = VGG16(weights='imagenet',\n",
        "                  include_top=False,\n",
        "                  input_shape=(150, 150, 3))"
      ],
      "execution_count": 0,
      "outputs": []
    },
    {
      "cell_type": "code",
      "metadata": {
        "id": "Dlrkw41gZlbw",
        "colab_type": "code",
        "colab": {
          "base_uri": "https://localhost:8080/",
          "height": 845
        },
        "outputId": "10728467-9b7a-4bad-eaf1-449817885613"
      },
      "source": [
        "conv_base.summary()"
      ],
      "execution_count": 5,
      "outputs": [
        {
          "output_type": "stream",
          "text": [
            "Model: \"vgg16\"\n",
            "_________________________________________________________________\n",
            "Layer (type)                 Output Shape              Param #   \n",
            "=================================================================\n",
            "input_1 (InputLayer)         [(None, 150, 150, 3)]     0         \n",
            "_________________________________________________________________\n",
            "block1_conv1 (Conv2D)        (None, 150, 150, 64)      1792      \n",
            "_________________________________________________________________\n",
            "block1_conv2 (Conv2D)        (None, 150, 150, 64)      36928     \n",
            "_________________________________________________________________\n",
            "block1_pool (MaxPooling2D)   (None, 75, 75, 64)        0         \n",
            "_________________________________________________________________\n",
            "block2_conv1 (Conv2D)        (None, 75, 75, 128)       73856     \n",
            "_________________________________________________________________\n",
            "block2_conv2 (Conv2D)        (None, 75, 75, 128)       147584    \n",
            "_________________________________________________________________\n",
            "block2_pool (MaxPooling2D)   (None, 37, 37, 128)       0         \n",
            "_________________________________________________________________\n",
            "block3_conv1 (Conv2D)        (None, 37, 37, 256)       295168    \n",
            "_________________________________________________________________\n",
            "block3_conv2 (Conv2D)        (None, 37, 37, 256)       590080    \n",
            "_________________________________________________________________\n",
            "block3_conv3 (Conv2D)        (None, 37, 37, 256)       590080    \n",
            "_________________________________________________________________\n",
            "block3_pool (MaxPooling2D)   (None, 18, 18, 256)       0         \n",
            "_________________________________________________________________\n",
            "block4_conv1 (Conv2D)        (None, 18, 18, 512)       1180160   \n",
            "_________________________________________________________________\n",
            "block4_conv2 (Conv2D)        (None, 18, 18, 512)       2359808   \n",
            "_________________________________________________________________\n",
            "block4_conv3 (Conv2D)        (None, 18, 18, 512)       2359808   \n",
            "_________________________________________________________________\n",
            "block4_pool (MaxPooling2D)   (None, 9, 9, 512)         0         \n",
            "_________________________________________________________________\n",
            "block5_conv1 (Conv2D)        (None, 9, 9, 512)         2359808   \n",
            "_________________________________________________________________\n",
            "block5_conv2 (Conv2D)        (None, 9, 9, 512)         2359808   \n",
            "_________________________________________________________________\n",
            "block5_conv3 (Conv2D)        (None, 9, 9, 512)         2359808   \n",
            "_________________________________________________________________\n",
            "block5_pool (MaxPooling2D)   (None, 4, 4, 512)         0         \n",
            "=================================================================\n",
            "Total params: 14,714,688\n",
            "Trainable params: 14,714,688\n",
            "Non-trainable params: 0\n",
            "_________________________________________________________________\n"
          ],
          "name": "stdout"
        }
      ]
    },
    {
      "cell_type": "code",
      "metadata": {
        "id": "466yKp_gZ0Jh",
        "colab_type": "code",
        "colab": {
          "base_uri": "https://localhost:8080/",
          "height": 71
        },
        "outputId": "6bb374c7-d01b-4305-b1b5-43cac4a68746"
      },
      "source": [
        "import os\n",
        "import numpy as np\n",
        "from tensorflow.keras.preprocessing.image import ImageDataGenerator\n",
        "\n",
        "base_dir = './datasets/cats_and_dogs_small'\n",
        "\n",
        "train_dir = os.path.join(base_dir, 'train')\n",
        "validation_dir = os.path.join(base_dir, 'validation')\n",
        "test_dir = os.path.join(base_dir, 'test')\n",
        "\n",
        "datagen = ImageDataGenerator(rescale=1./255)\n",
        "batch_size = 20\n",
        "\n",
        "def extract_features(directory, sample_count):\n",
        "    features = np.zeros(shape=(sample_count, 4, 4, 512))\n",
        "    labels = np.zeros(shape=(sample_count))\n",
        "    generator = datagen.flow_from_directory(\n",
        "        directory,\n",
        "        target_size=(150, 150),\n",
        "        batch_size=batch_size,\n",
        "        class_mode='binary')\n",
        "    i = 0\n",
        "    for inputs_batch, labels_batch in generator:\n",
        "        features_batch = conv_base.predict(inputs_batch)\n",
        "        features[i * batch_size : (i + 1) * batch_size] = features_batch\n",
        "        labels[i * batch_size : (i + 1) * batch_size] = labels_batch\n",
        "        i += 1\n",
        "        if i * batch_size >= sample_count:\n",
        "            # 제너레이터는 루프 안에서 무한하게 데이터를 만들어내므로 모든 이미지를 한 번씩 처리하고 나면 중지합니다\n",
        "            break\n",
        "    return features, labels\n",
        "\n",
        "train_features, train_labels = extract_features(train_dir, 2000)\n",
        "validation_features, validation_labels = extract_features(validation_dir, 1000)\n",
        "test_features, test_labels = extract_features(test_dir, 1000)"
      ],
      "execution_count": 6,
      "outputs": [
        {
          "output_type": "stream",
          "text": [
            "Found 2000 images belonging to 2 classes.\n",
            "Found 1000 images belonging to 2 classes.\n",
            "Found 1000 images belonging to 2 classes.\n"
          ],
          "name": "stdout"
        }
      ]
    },
    {
      "cell_type": "code",
      "metadata": {
        "id": "sZNXO73ScAdz",
        "colab_type": "code",
        "colab": {}
      },
      "source": [
        "train_features = np.reshape(train_features, (2000, 4 * 4 * 512))\n",
        "validation_features = np.reshape(validation_features, (1000, 4 * 4 * 512))\n",
        "test_features = np.reshape(test_features, (1000, 4 * 4 * 512))"
      ],
      "execution_count": 0,
      "outputs": []
    },
    {
      "cell_type": "code",
      "metadata": {
        "id": "tLel1HMAcPGI",
        "colab_type": "code",
        "colab": {
          "base_uri": "https://localhost:8080/",
          "height": 1000
        },
        "outputId": "20405c36-df33-45a5-b580-595708e4f4d9"
      },
      "source": [
        "from tensorflow.keras import models\n",
        "from tensorflow.keras import layers\n",
        "from tensorflow.keras import optimizers\n",
        "\n",
        "model = models.Sequential()\n",
        "model.add(layers.Dense(256, activation='relu', input_dim=4 * 4 * 512))\n",
        "model.add(layers.Dropout(0.5))\n",
        "model.add(layers.Dense(1, activation='sigmoid'))\n",
        "\n",
        "model.compile(optimizer=optimizers.RMSprop(lr=2e-5),\n",
        "              loss='binary_crossentropy',\n",
        "              metrics=['acc'])\n",
        "\n",
        "history = model.fit(train_features, train_labels,\n",
        "                    epochs=30,\n",
        "                    batch_size=20,\n",
        "                    validation_data=(validation_features, validation_labels))"
      ],
      "execution_count": 8,
      "outputs": [
        {
          "output_type": "stream",
          "text": [
            "Train on 2000 samples, validate on 1000 samples\n",
            "Epoch 1/30\n",
            "2000/2000 [==============================] - 1s 375us/sample - loss: 0.6049 - acc: 0.6600 - val_loss: 0.4447 - val_acc: 0.8430\n",
            "Epoch 2/30\n",
            "2000/2000 [==============================] - 0s 208us/sample - loss: 0.4144 - acc: 0.8230 - val_loss: 0.3699 - val_acc: 0.8450\n",
            "Epoch 3/30\n",
            "2000/2000 [==============================] - 0s 210us/sample - loss: 0.3521 - acc: 0.8520 - val_loss: 0.3228 - val_acc: 0.8820\n",
            "Epoch 4/30\n",
            "2000/2000 [==============================] - 0s 203us/sample - loss: 0.3089 - acc: 0.8760 - val_loss: 0.3183 - val_acc: 0.8640\n",
            "Epoch 5/30\n",
            "2000/2000 [==============================] - 0s 209us/sample - loss: 0.2755 - acc: 0.8895 - val_loss: 0.2908 - val_acc: 0.8830\n",
            "Epoch 6/30\n",
            "2000/2000 [==============================] - 0s 215us/sample - loss: 0.2574 - acc: 0.8995 - val_loss: 0.2743 - val_acc: 0.8950\n",
            "Epoch 7/30\n",
            "2000/2000 [==============================] - 0s 200us/sample - loss: 0.2377 - acc: 0.9105 - val_loss: 0.2660 - val_acc: 0.9030\n",
            "Epoch 8/30\n",
            "2000/2000 [==============================] - 0s 204us/sample - loss: 0.2278 - acc: 0.9145 - val_loss: 0.2612 - val_acc: 0.8980\n",
            "Epoch 9/30\n",
            "2000/2000 [==============================] - 0s 211us/sample - loss: 0.2160 - acc: 0.9250 - val_loss: 0.2568 - val_acc: 0.9020\n",
            "Epoch 10/30\n",
            "2000/2000 [==============================] - 0s 223us/sample - loss: 0.1937 - acc: 0.9335 - val_loss: 0.2521 - val_acc: 0.9010\n",
            "Epoch 11/30\n",
            "2000/2000 [==============================] - 0s 209us/sample - loss: 0.1875 - acc: 0.9345 - val_loss: 0.2544 - val_acc: 0.8970\n",
            "Epoch 12/30\n",
            "2000/2000 [==============================] - 0s 202us/sample - loss: 0.1822 - acc: 0.9310 - val_loss: 0.2570 - val_acc: 0.8950\n",
            "Epoch 13/30\n",
            "2000/2000 [==============================] - 0s 207us/sample - loss: 0.1773 - acc: 0.9400 - val_loss: 0.2450 - val_acc: 0.8990\n",
            "Epoch 14/30\n",
            "2000/2000 [==============================] - 0s 213us/sample - loss: 0.1636 - acc: 0.9405 - val_loss: 0.2436 - val_acc: 0.9060\n",
            "Epoch 15/30\n",
            "2000/2000 [==============================] - 0s 210us/sample - loss: 0.1623 - acc: 0.9460 - val_loss: 0.2481 - val_acc: 0.9000\n",
            "Epoch 16/30\n",
            "2000/2000 [==============================] - 0s 213us/sample - loss: 0.1524 - acc: 0.9455 - val_loss: 0.2439 - val_acc: 0.9010\n",
            "Epoch 17/30\n",
            "2000/2000 [==============================] - 0s 211us/sample - loss: 0.1472 - acc: 0.9470 - val_loss: 0.2398 - val_acc: 0.9050\n",
            "Epoch 18/30\n",
            "2000/2000 [==============================] - 0s 204us/sample - loss: 0.1422 - acc: 0.9510 - val_loss: 0.2579 - val_acc: 0.8950\n",
            "Epoch 19/30\n",
            "2000/2000 [==============================] - 0s 201us/sample - loss: 0.1363 - acc: 0.9520 - val_loss: 0.2379 - val_acc: 0.9070\n",
            "Epoch 20/30\n",
            "2000/2000 [==============================] - 0s 204us/sample - loss: 0.1272 - acc: 0.9575 - val_loss: 0.2385 - val_acc: 0.9010\n",
            "Epoch 21/30\n",
            "2000/2000 [==============================] - 0s 209us/sample - loss: 0.1262 - acc: 0.9585 - val_loss: 0.2373 - val_acc: 0.9050\n",
            "Epoch 22/30\n",
            "2000/2000 [==============================] - 0s 213us/sample - loss: 0.1193 - acc: 0.9615 - val_loss: 0.2407 - val_acc: 0.8980\n",
            "Epoch 23/30\n",
            "2000/2000 [==============================] - 0s 223us/sample - loss: 0.1150 - acc: 0.9635 - val_loss: 0.2479 - val_acc: 0.9020\n",
            "Epoch 24/30\n",
            "2000/2000 [==============================] - 0s 203us/sample - loss: 0.1100 - acc: 0.9630 - val_loss: 0.2385 - val_acc: 0.9010\n",
            "Epoch 25/30\n",
            "2000/2000 [==============================] - 0s 205us/sample - loss: 0.1030 - acc: 0.9675 - val_loss: 0.2398 - val_acc: 0.9010\n",
            "Epoch 26/30\n",
            "2000/2000 [==============================] - 0s 220us/sample - loss: 0.1046 - acc: 0.9690 - val_loss: 0.2442 - val_acc: 0.9030\n",
            "Epoch 27/30\n",
            "2000/2000 [==============================] - 0s 206us/sample - loss: 0.0992 - acc: 0.9690 - val_loss: 0.2394 - val_acc: 0.9030\n",
            "Epoch 28/30\n",
            "2000/2000 [==============================] - 0s 213us/sample - loss: 0.0978 - acc: 0.9680 - val_loss: 0.2424 - val_acc: 0.9020\n",
            "Epoch 29/30\n",
            "2000/2000 [==============================] - 0s 216us/sample - loss: 0.0937 - acc: 0.9745 - val_loss: 0.2411 - val_acc: 0.9030\n",
            "Epoch 30/30\n",
            "2000/2000 [==============================] - 0s 206us/sample - loss: 0.0926 - acc: 0.9730 - val_loss: 0.2510 - val_acc: 0.9030\n"
          ],
          "name": "stdout"
        }
      ]
    },
    {
      "cell_type": "code",
      "metadata": {
        "id": "vmg4gTz_ce2g",
        "colab_type": "code",
        "colab": {}
      },
      "source": [
        "import matplotlib.pyplot as plt"
      ],
      "execution_count": 0,
      "outputs": []
    },
    {
      "cell_type": "code",
      "metadata": {
        "id": "8gcbM8wIcgbX",
        "colab_type": "code",
        "colab": {
          "base_uri": "https://localhost:8080/",
          "height": 545
        },
        "outputId": "3445f856-f20a-4fd0-e83c-5a12c9fcfc5a"
      },
      "source": [
        "acc = history.history['acc']\n",
        "val_acc = history.history['val_acc']\n",
        "loss = history.history['loss']\n",
        "val_loss = history.history['val_loss']\n",
        "\n",
        "epochs = range(len(acc))\n",
        "\n",
        "plt.plot(epochs, acc, 'bo', label='Training acc')\n",
        "plt.plot(epochs, val_acc, 'b', label='Validation acc')\n",
        "plt.title('Training and validation accuracy')\n",
        "plt.legend()\n",
        "\n",
        "plt.figure()\n",
        "\n",
        "plt.plot(epochs, loss, 'bo', label='Training loss')\n",
        "plt.plot(epochs, val_loss, 'b', label='Validation loss')\n",
        "plt.title('Training and validation loss')\n",
        "plt.legend()\n",
        "\n",
        "plt.show()"
      ],
      "execution_count": 10,
      "outputs": [
        {
          "output_type": "display_data",
          "data": {
            "image/png": "[encoded data removed]",
            "text/plain": [
              "<Figure size 432x288 with 1 Axes>"
            ]
          },
          "metadata": {
            "tags": []
          }
        },
        {
          "output_type": "display_data",
          "data": {
            "image/png": "[encoded data removed]",
            "text/plain": [
              "<Figure size 432x288 with 1 Axes>"
            ]
          },
          "metadata": {
            "tags": []
          }
        }
      ]
    },
    {
      "cell_type": "code",
      "metadata": {
        "id": "F9Vn-sD7cpoR",
        "colab_type": "code",
        "colab": {}
      },
      "source": [
        "from tensorflow.keras import models\n",
        "from tensorflow.keras import layers\n",
        "\n",
        "model = models.Sequential()\n",
        "model.add(conv_base)\n",
        "model.add(layers.Flatten())\n",
        "model.add(layers.Dense(256, activation='relu'))\n",
        "model.add(layers.Dense(1, activation='sigmoid'))"
      ],
      "execution_count": 0,
      "outputs": []
    },
    {
      "cell_type": "code",
      "metadata": {
        "id": "YCG96Spec6Yh",
        "colab_type": "code",
        "colab": {
          "base_uri": "https://localhost:8080/",
          "height": 305
        },
        "outputId": "f64c5bb8-098d-4ac1-91ea-295d0c7d0822"
      },
      "source": [
        "model.summary()"
      ],
      "execution_count": 12,
      "outputs": [
        {
          "output_type": "stream",
          "text": [
            "Model: \"sequential_1\"\n",
            "_________________________________________________________________\n",
            "Layer (type)                 Output Shape              Param #   \n",
            "=================================================================\n",
            "vgg16 (Model)                (None, 4, 4, 512)         14714688  \n",
            "_________________________________________________________________\n",
            "flatten (Flatten)            (None, 8192)              0         \n",
            "_________________________________________________________________\n",
            "dense_2 (Dense)              (None, 256)               2097408   \n",
            "_________________________________________________________________\n",
            "dense_3 (Dense)              (None, 1)                 257       \n",
            "=================================================================\n",
            "Total params: 16,812,353\n",
            "Trainable params: 16,812,353\n",
            "Non-trainable params: 0\n",
            "_________________________________________________________________\n"
          ],
          "name": "stdout"
        }
      ]
    },
    {
      "cell_type": "code",
      "metadata": {
        "id": "0WFRIL9RdAC_",
        "colab_type": "code",
        "colab": {
          "base_uri": "https://localhost:8080/",
          "height": 35
        },
        "outputId": "3f926d5c-fe32-472e-e202-645e977e6556"
      },
      "source": [
        "print('conv_base를 동결하기 전 훈련되는 가중치의 수:', \n",
        "      len(model.trainable_weights))"
      ],
      "execution_count": 13,
      "outputs": [
        {
          "output_type": "stream",
          "text": [
            "conv_base를 동결하기 전 훈련되는 가중치의 수: 30\n"
          ],
          "name": "stdout"
        }
      ]
    },
    {
      "cell_type": "code",
      "metadata": {
        "id": "MYn0QRSMdBB_",
        "colab_type": "code",
        "colab": {}
      },
      "source": [
        "conv_base.trainable = False"
      ],
      "execution_count": 0,
      "outputs": []
    },
    {
      "cell_type": "code",
      "metadata": {
        "id": "narPaeSSdIGn",
        "colab_type": "code",
        "colab": {
          "base_uri": "https://localhost:8080/",
          "height": 35
        },
        "outputId": "2efdeabb-98d7-4fdf-bb01-220f7eaed7e1"
      },
      "source": [
        "print('conv_base를 동결한 후 훈련되는 가중치의 수:', \n",
        "      len(model.trainable_weights))"
      ],
      "execution_count": 15,
      "outputs": [
        {
          "output_type": "stream",
          "text": [
            "conv_base를 동결한 후 훈련되는 가중치의 수: 4\n"
          ],
          "name": "stdout"
        }
      ]
    },
    {
      "cell_type": "code",
      "metadata": {
        "id": "z4rz5SOUdKGw",
        "colab_type": "code",
        "colab": {
          "base_uri": "https://localhost:8080/",
          "height": 1000
        },
        "outputId": "08fec927-cb79-4545-e1e6-ba3f52d554af"
      },
      "source": [
        "from tensorflow.keras.preprocessing.image import ImageDataGenerator\n",
        "\n",
        "train_datagen = ImageDataGenerator(\n",
        "      rescale=1./255,\n",
        "      rotation_range=20,\n",
        "      width_shift_range=0.1,\n",
        "      height_shift_range=0.1,\n",
        "      shear_range=0.1,\n",
        "      zoom_range=0.1,\n",
        "      horizontal_flip=True,\n",
        "      fill_mode='nearest')\n",
        "\n",
        "# 검증 데이터는 증식되어서는 안 됩니다!\n",
        "test_datagen = ImageDataGenerator(rescale=1./255)\n",
        "\n",
        "train_generator = train_datagen.flow_from_directory(\n",
        "        # 타깃 디렉터리\n",
        "        train_dir,\n",
        "        # 모든 이미지의 크기를 150 × 150로 변경합니다\n",
        "        target_size=(150, 150),\n",
        "        batch_size=20,\n",
        "        # binary_crossentropy 손실을 사용하므로 이진 레이블이 필요합니다\n",
        "        class_mode='binary')\n",
        "\n",
        "validation_generator = test_datagen.flow_from_directory(\n",
        "        validation_dir,\n",
        "        target_size=(150, 150),\n",
        "        batch_size=20,\n",
        "        class_mode='binary')\n",
        "\n",
        "model.compile(loss='binary_crossentropy',\n",
        "              optimizer=optimizers.RMSprop(lr=2e-5),\n",
        "              metrics=['acc'])\n",
        "\n",
        "history = model.fit(\n",
        "      train_generator,\n",
        "      steps_per_epoch=100,\n",
        "      epochs=30,\n",
        "      validation_data=validation_generator,\n",
        "      validation_steps=50,\n",
        "      verbose=2)"
      ],
      "execution_count": 16,
      "outputs": [
        {
          "output_type": "stream",
          "text": [
            "Found 2000 images belonging to 2 classes.\n",
            "Found 1000 images belonging to 2 classes.\n",
            "WARNING:tensorflow:sample_weight modes were coerced from\n",
            "  ...\n",
            "    to  \n",
            "  ['...']\n",
            "WARNING:tensorflow:sample_weight modes were coerced from\n",
            "  ...\n",
            "    to  \n",
            "  ['...']\n",
            "Train for 100 steps, validate for 50 steps\n",
            "Epoch 1/30\n",
            "100/100 - 17s - loss: 0.5405 - acc: 0.7435 - val_loss: 0.4092 - val_acc: 0.8460\n",
            "Epoch 2/30\n",
            "100/100 - 16s - loss: 0.4021 - acc: 0.8335 - val_loss: 0.3404 - val_acc: 0.8700\n",
            "Epoch 3/30\n",
            "100/100 - 16s - loss: 0.3519 - acc: 0.8495 - val_loss: 0.3080 - val_acc: 0.8690\n",
            "Epoch 4/30\n",
            "100/100 - 16s - loss: 0.3219 - acc: 0.8595 - val_loss: 0.2828 - val_acc: 0.8950\n",
            "Epoch 5/30\n",
            "100/100 - 17s - loss: 0.2934 - acc: 0.8860 - val_loss: 0.2818 - val_acc: 0.8740\n",
            "Epoch 6/30\n",
            "100/100 - 16s - loss: 0.2858 - acc: 0.8745 - val_loss: 0.2616 - val_acc: 0.9000\n",
            "Epoch 7/30\n",
            "100/100 - 16s - loss: 0.2687 - acc: 0.8925 - val_loss: 0.2498 - val_acc: 0.8980\n",
            "Epoch 8/30\n",
            "100/100 - 16s - loss: 0.2603 - acc: 0.8965 - val_loss: 0.2679 - val_acc: 0.8880\n",
            "Epoch 9/30\n",
            "100/100 - 16s - loss: 0.2579 - acc: 0.8965 - val_loss: 0.2443 - val_acc: 0.9000\n",
            "Epoch 10/30\n",
            "100/100 - 16s - loss: 0.2509 - acc: 0.8970 - val_loss: 0.2461 - val_acc: 0.8980\n",
            "Epoch 11/30\n",
            "100/100 - 16s - loss: 0.2369 - acc: 0.9065 - val_loss: 0.2472 - val_acc: 0.9000\n",
            "Epoch 12/30\n",
            "100/100 - 16s - loss: 0.2394 - acc: 0.8990 - val_loss: 0.2383 - val_acc: 0.9000\n",
            "Epoch 13/30\n",
            "100/100 - 16s - loss: 0.2340 - acc: 0.9060 - val_loss: 0.2517 - val_acc: 0.8970\n",
            "Epoch 14/30\n",
            "100/100 - 16s - loss: 0.2342 - acc: 0.9090 - val_loss: 0.2378 - val_acc: 0.8990\n",
            "Epoch 15/30\n",
            "100/100 - 16s - loss: 0.2178 - acc: 0.9130 - val_loss: 0.2492 - val_acc: 0.8980\n",
            "Epoch 16/30\n",
            "100/100 - 17s - loss: 0.2120 - acc: 0.9085 - val_loss: 0.2414 - val_acc: 0.8960\n",
            "Epoch 17/30\n",
            "100/100 - 17s - loss: 0.2191 - acc: 0.9090 - val_loss: 0.2335 - val_acc: 0.9050\n",
            "Epoch 18/30\n",
            "100/100 - 17s - loss: 0.2073 - acc: 0.9200 - val_loss: 0.2384 - val_acc: 0.9020\n",
            "Epoch 19/30\n",
            "100/100 - 17s - loss: 0.2024 - acc: 0.9200 - val_loss: 0.2347 - val_acc: 0.9070\n",
            "Epoch 20/30\n",
            "100/100 - 17s - loss: 0.2110 - acc: 0.9150 - val_loss: 0.2334 - val_acc: 0.9020\n",
            "Epoch 21/30\n",
            "100/100 - 17s - loss: 0.2033 - acc: 0.9245 - val_loss: 0.2364 - val_acc: 0.9020\n",
            "Epoch 22/30\n",
            "100/100 - 16s - loss: 0.2023 - acc: 0.9150 - val_loss: 0.2311 - val_acc: 0.9020\n",
            "Epoch 23/30\n",
            "100/100 - 16s - loss: 0.1912 - acc: 0.9175 - val_loss: 0.2649 - val_acc: 0.8860\n",
            "Epoch 24/30\n",
            "100/100 - 17s - loss: 0.2073 - acc: 0.9150 - val_loss: 0.2357 - val_acc: 0.9010\n",
            "Epoch 25/30\n",
            "100/100 - 16s - loss: 0.1907 - acc: 0.9250 - val_loss: 0.2352 - val_acc: 0.9060\n",
            "Epoch 26/30\n",
            "100/100 - 16s - loss: 0.1931 - acc: 0.9255 - val_loss: 0.2365 - val_acc: 0.9010\n",
            "Epoch 27/30\n",
            "100/100 - 16s - loss: 0.1920 - acc: 0.9240 - val_loss: 0.2329 - val_acc: 0.9070\n",
            "Epoch 28/30\n",
            "100/100 - 16s - loss: 0.1855 - acc: 0.9240 - val_loss: 0.2343 - val_acc: 0.9070\n",
            "Epoch 29/30\n",
            "100/100 - 17s - loss: 0.1784 - acc: 0.9305 - val_loss: 0.2566 - val_acc: 0.8990\n",
            "Epoch 30/30\n",
            "100/100 - 16s - loss: 0.1859 - acc: 0.9285 - val_loss: 0.2356 - val_acc: 0.9020\n"
          ],
          "name": "stdout"
        }
      ]
    },
    {
      "cell_type": "code",
      "metadata": {
        "id": "m1dMiGQ0iVeU",
        "colab_type": "code",
        "colab": {}
      },
      "source": [
        "model.save('cats_and_dogs_small_3.h5')"
      ],
      "execution_count": 0,
      "outputs": []
    },
    {
      "cell_type": "code",
      "metadata": {
        "id": "YxMpTdHoihzg",
        "colab_type": "code",
        "colab": {
          "base_uri": "https://localhost:8080/",
          "height": 545
        },
        "outputId": "846895fd-4ba6-49a8-cbba-e1f0e7829d68"
      },
      "source": [
        "acc = history.history['acc']\n",
        "val_acc = history.history['val_acc']\n",
        "loss = history.history['loss']\n",
        "val_loss = history.history['val_loss']\n",
        "\n",
        "epochs = range(len(acc))\n",
        "\n",
        "plt.plot(epochs, acc, 'bo', label='Training acc')\n",
        "plt.plot(epochs, val_acc, 'b', label='Validation acc')\n",
        "plt.title('Training and validation accuracy')\n",
        "plt.legend()\n",
        "\n",
        "plt.figure()\n",
        "\n",
        "plt.plot(epochs, loss, 'bo', label='Training loss')\n",
        "plt.plot(epochs, val_loss, 'b', label='Validation loss')\n",
        "plt.title('Training and validation loss')\n",
        "plt.legend()\n",
        "\n",
        "plt.show()"
      ],
      "execution_count": 18,
      "outputs": [
        {
          "output_type": "display_data",
          "data": {
            "image/png": "[encoded data removed]",
            "text/plain": [
              "<Figure size 432x288 with 1 Axes>"
            ]
          },
          "metadata": {
            "tags": []
          }
        },
        {
          "output_type": "display_data",
          "data": {
            "image/png": "[encoded data removed]",
            "text/plain": [
              "<Figure size 432x288 with 1 Axes>"
            ]
          },
          "metadata": {
            "tags": []
          }
        }
      ]
    },
    {
      "cell_type": "code",
      "metadata": {
        "id": "HGT-FOyBi3iS",
        "colab_type": "code",
        "colab": {
          "base_uri": "https://localhost:8080/",
          "height": 845
        },
        "outputId": "1b302914-6a62-46ba-bedc-1421b39bcab1"
      },
      "source": [
        "conv_base.summary()"
      ],
      "execution_count": 19,
      "outputs": [
        {
          "output_type": "stream",
          "text": [
            "Model: \"vgg16\"\n",
            "_________________________________________________________________\n",
            "Layer (type)                 Output Shape              Param #   \n",
            "=================================================================\n",
            "input_1 (InputLayer)         [(None, 150, 150, 3)]     0         \n",
            "_________________________________________________________________\n",
            "block1_conv1 (Conv2D)        (None, 150, 150, 64)      1792      \n",
            "_________________________________________________________________\n",
            "block1_conv2 (Conv2D)        (None, 150, 150, 64)      36928     \n",
            "_________________________________________________________________\n",
            "block1_pool (MaxPooling2D)   (None, 75, 75, 64)        0         \n",
            "_________________________________________________________________\n",
            "block2_conv1 (Conv2D)        (None, 75, 75, 128)       73856     \n",
            "_________________________________________________________________\n",
            "block2_conv2 (Conv2D)        (None, 75, 75, 128)       147584    \n",
            "_________________________________________________________________\n",
            "block2_pool (MaxPooling2D)   (None, 37, 37, 128)       0         \n",
            "_________________________________________________________________\n",
            "block3_conv1 (Conv2D)        (None, 37, 37, 256)       295168    \n",
            "_________________________________________________________________\n",
            "block3_conv2 (Conv2D)        (None, 37, 37, 256)       590080    \n",
            "_________________________________________________________________\n",
            "block3_conv3 (Conv2D)        (None, 37, 37, 256)       590080    \n",
            "_________________________________________________________________\n",
            "block3_pool (MaxPooling2D)   (None, 18, 18, 256)       0         \n",
            "_________________________________________________________________\n",
            "block4_conv1 (Conv2D)        (None, 18, 18, 512)       1180160   \n",
            "_________________________________________________________________\n",
            "block4_conv2 (Conv2D)        (None, 18, 18, 512)       2359808   \n",
            "_________________________________________________________________\n",
            "block4_conv3 (Conv2D)        (None, 18, 18, 512)       2359808   \n",
            "_________________________________________________________________\n",
            "block4_pool (MaxPooling2D)   (None, 9, 9, 512)         0         \n",
            "_________________________________________________________________\n",
            "block5_conv1 (Conv2D)        (None, 9, 9, 512)         2359808   \n",
            "_________________________________________________________________\n",
            "block5_conv2 (Conv2D)        (None, 9, 9, 512)         2359808   \n",
            "_________________________________________________________________\n",
            "block5_conv3 (Conv2D)        (None, 9, 9, 512)         2359808   \n",
            "_________________________________________________________________\n",
            "block5_pool (MaxPooling2D)   (None, 4, 4, 512)         0         \n",
            "=================================================================\n",
            "Total params: 14,714,688\n",
            "Trainable params: 0\n",
            "Non-trainable params: 14,714,688\n",
            "_________________________________________________________________\n"
          ],
          "name": "stdout"
        }
      ]
    },
    {
      "cell_type": "code",
      "metadata": {
        "id": "Yp90urBVjHcg",
        "colab_type": "code",
        "colab": {}
      },
      "source": [
        "conv_base.trainable = True\n",
        "\n",
        "set_trainable = False\n",
        "for layer in conv_base.layers:\n",
        "    if layer.name == 'block5_conv1':\n",
        "        set_trainable = True\n",
        "    if set_trainable:\n",
        "        layer.trainable = True\n",
        "    else:\n",
        "        layer.trainable = False"
      ],
      "execution_count": 0,
      "outputs": []
    },
    {
      "cell_type": "code",
      "metadata": {
        "id": "5W2f99nzjZZz",
        "colab_type": "code",
        "colab": {
          "base_uri": "https://localhost:8080/",
          "height": 1000
        },
        "outputId": "3c60770b-7248-4db9-b53c-588053f6ca66"
      },
      "source": [
        "model.compile(loss='binary_crossentropy',\n",
        "              optimizer=optimizers.RMSprop(lr=1e-5),\n",
        "              metrics=['acc'])\n",
        "\n",
        "history = model.fit(\n",
        "      train_generator,\n",
        "      steps_per_epoch=100,\n",
        "      epochs=100,\n",
        "      validation_data=validation_generator,\n",
        "      validation_steps=50)"
      ],
      "execution_count": 21,
      "outputs": [
        {
          "output_type": "stream",
          "text": [
            "WARNING:tensorflow:sample_weight modes were coerced from\n",
            "  ...\n",
            "    to  \n",
            "  ['...']\n",
            "WARNING:tensorflow:sample_weight modes were coerced from\n",
            "  ...\n",
            "    to  \n",
            "  ['...']\n",
            "Train for 100 steps, validate for 50 steps\n",
            "Epoch 1/100\n",
            "100/100 [==============================] - 18s 180ms/step - loss: 0.1892 - acc: 0.9185 - val_loss: 0.2669 - val_acc: 0.8930\n",
            "Epoch 2/100\n",
            "100/100 [==============================] - 17s 174ms/step - loss: 0.1593 - acc: 0.9365 - val_loss: 0.2170 - val_acc: 0.9150\n",
            "Epoch 3/100\n",
            "100/100 [==============================] - 17s 174ms/step - loss: 0.1450 - acc: 0.9470 - val_loss: 0.2077 - val_acc: 0.9210\n",
            "Epoch 4/100\n",
            "100/100 [==============================] - 17s 172ms/step - loss: 0.1195 - acc: 0.9530 - val_loss: 0.2398 - val_acc: 0.9100\n",
            "Epoch 5/100\n",
            "100/100 [==============================] - 17s 174ms/step - loss: 0.0989 - acc: 0.9620 - val_loss: 0.2328 - val_acc: 0.9190\n",
            "Epoch 6/100\n",
            "100/100 [==============================] - 17s 173ms/step - loss: 0.0933 - acc: 0.9680 - val_loss: 0.2290 - val_acc: 0.9190\n",
            "Epoch 7/100\n",
            "100/100 [==============================] - 17s 169ms/step - loss: 0.0649 - acc: 0.9760 - val_loss: 0.2112 - val_acc: 0.9210\n",
            "Epoch 8/100\n",
            "100/100 [==============================] - 17s 173ms/step - loss: 0.0844 - acc: 0.9725 - val_loss: 0.1999 - val_acc: 0.9320\n",
            "Epoch 9/100\n",
            "100/100 [==============================] - 17s 171ms/step - loss: 0.0660 - acc: 0.9755 - val_loss: 0.2248 - val_acc: 0.9190\n",
            "Epoch 10/100\n",
            "100/100 [==============================] - 17s 171ms/step - loss: 0.0569 - acc: 0.9800 - val_loss: 0.3191 - val_acc: 0.8980\n",
            "Epoch 11/100\n",
            "100/100 [==============================] - 17s 171ms/step - loss: 0.0493 - acc: 0.9840 - val_loss: 0.3029 - val_acc: 0.8970\n",
            "Epoch 12/100\n",
            "100/100 [==============================] - 18s 177ms/step - loss: 0.0416 - acc: 0.9870 - val_loss: 0.2268 - val_acc: 0.9310\n",
            "Epoch 13/100\n",
            "100/100 [==============================] - 17s 174ms/step - loss: 0.0470 - acc: 0.9825 - val_loss: 0.2245 - val_acc: 0.9270\n",
            "Epoch 14/100\n",
            "100/100 [==============================] - 17s 172ms/step - loss: 0.0331 - acc: 0.9880 - val_loss: 0.2380 - val_acc: 0.9270\n",
            "Epoch 15/100\n",
            "100/100 [==============================] - 17s 173ms/step - loss: 0.0382 - acc: 0.9875 - val_loss: 0.2444 - val_acc: 0.9250\n",
            "Epoch 16/100\n",
            "100/100 [==============================] - 17s 172ms/step - loss: 0.0327 - acc: 0.9905 - val_loss: 0.2240 - val_acc: 0.9320\n",
            "Epoch 17/100\n",
            "100/100 [==============================] - 17s 173ms/step - loss: 0.0280 - acc: 0.9885 - val_loss: 0.2538 - val_acc: 0.9290\n",
            "Epoch 18/100\n",
            "100/100 [==============================] - 17s 170ms/step - loss: 0.0297 - acc: 0.9885 - val_loss: 0.2266 - val_acc: 0.9290\n",
            "Epoch 19/100\n",
            "100/100 [==============================] - 17s 171ms/step - loss: 0.0235 - acc: 0.9920 - val_loss: 0.2407 - val_acc: 0.9310\n",
            "Epoch 20/100\n",
            "100/100 [==============================] - 17s 172ms/step - loss: 0.0221 - acc: 0.9930 - val_loss: 0.2491 - val_acc: 0.9290\n",
            "Epoch 21/100\n",
            "100/100 [==============================] - 17s 172ms/step - loss: 0.0251 - acc: 0.9895 - val_loss: 0.2550 - val_acc: 0.9270\n",
            "Epoch 22/100\n",
            "100/100 [==============================] - 17s 172ms/step - loss: 0.0221 - acc: 0.9925 - val_loss: 0.2589 - val_acc: 0.9250\n",
            "Epoch 23/100\n",
            "100/100 [==============================] - 17s 172ms/step - loss: 0.0171 - acc: 0.9960 - val_loss: 0.2619 - val_acc: 0.9280\n",
            "Epoch 24/100\n",
            "100/100 [==============================] - 17s 174ms/step - loss: 0.0186 - acc: 0.9940 - val_loss: 0.2353 - val_acc: 0.9340\n",
            "Epoch 25/100\n",
            "100/100 [==============================] - 17s 171ms/step - loss: 0.0129 - acc: 0.9955 - val_loss: 0.2611 - val_acc: 0.9280\n",
            "Epoch 26/100\n",
            "100/100 [==============================] - 17s 172ms/step - loss: 0.0130 - acc: 0.9960 - val_loss: 0.2852 - val_acc: 0.9260\n",
            "Epoch 27/100\n",
            "100/100 [==============================] - 17s 172ms/step - loss: 0.0151 - acc: 0.9945 - val_loss: 0.2732 - val_acc: 0.9300\n",
            "Epoch 28/100\n",
            "100/100 [==============================] - 17s 167ms/step - loss: 0.0141 - acc: 0.9950 - val_loss: 0.2866 - val_acc: 0.9290\n",
            "Epoch 29/100\n",
            "100/100 [==============================] - 17s 171ms/step - loss: 0.0122 - acc: 0.9970 - val_loss: 0.2981 - val_acc: 0.9350\n",
            "Epoch 30/100\n",
            "100/100 [==============================] - 17s 170ms/step - loss: 0.0101 - acc: 0.9965 - val_loss: 0.2587 - val_acc: 0.9360\n",
            "Epoch 31/100\n",
            "100/100 [==============================] - 17s 173ms/step - loss: 0.0103 - acc: 0.9970 - val_loss: 0.3307 - val_acc: 0.9200\n",
            "Epoch 32/100\n",
            "100/100 [==============================] - 17s 173ms/step - loss: 0.0046 - acc: 0.9990 - val_loss: 0.2819 - val_acc: 0.9340\n",
            "Epoch 33/100\n",
            "100/100 [==============================] - 17s 173ms/step - loss: 0.0106 - acc: 0.9970 - val_loss: 0.3655 - val_acc: 0.9200\n",
            "Epoch 34/100\n",
            "100/100 [==============================] - 17s 171ms/step - loss: 0.0162 - acc: 0.9945 - val_loss: 0.2825 - val_acc: 0.9330\n",
            "Epoch 35/100\n",
            "100/100 [==============================] - 17s 171ms/step - loss: 0.0051 - acc: 0.9980 - val_loss: 0.4427 - val_acc: 0.9120\n",
            "Epoch 36/100\n",
            "100/100 [==============================] - 17s 175ms/step - loss: 0.0071 - acc: 0.9985 - val_loss: 0.3010 - val_acc: 0.9350\n",
            "Epoch 37/100\n",
            "100/100 [==============================] - 17s 168ms/step - loss: 0.0064 - acc: 0.9985 - val_loss: 0.3381 - val_acc: 0.9320\n",
            "Epoch 38/100\n",
            "100/100 [==============================] - 17s 172ms/step - loss: 0.0062 - acc: 0.9980 - val_loss: 0.3353 - val_acc: 0.9260\n",
            "Epoch 39/100\n",
            "100/100 [==============================] - 17s 170ms/step - loss: 0.0092 - acc: 0.9970 - val_loss: 0.2763 - val_acc: 0.9410\n",
            "Epoch 40/100\n",
            "100/100 [==============================] - 17s 173ms/step - loss: 0.0032 - acc: 0.9990 - val_loss: 0.3461 - val_acc: 0.9300\n",
            "Epoch 41/100\n",
            "100/100 [==============================] - 17s 169ms/step - loss: 0.0032 - acc: 0.9990 - val_loss: 0.3446 - val_acc: 0.9270\n",
            "Epoch 42/100\n",
            "100/100 [==============================] - 17s 171ms/step - loss: 0.0059 - acc: 0.9985 - val_loss: 0.2948 - val_acc: 0.9330\n",
            "Epoch 43/100\n",
            "100/100 [==============================] - 17s 169ms/step - loss: 0.0045 - acc: 0.9980 - val_loss: 0.3031 - val_acc: 0.9300\n",
            "Epoch 44/100\n",
            "100/100 [==============================] - 17s 169ms/step - loss: 0.0054 - acc: 0.9980 - val_loss: 0.3135 - val_acc: 0.9350\n",
            "Epoch 45/100\n",
            "100/100 [==============================] - 17s 170ms/step - loss: 0.0063 - acc: 0.9975 - val_loss: 0.3484 - val_acc: 0.9290\n",
            "Epoch 46/100\n",
            "100/100 [==============================] - 17s 172ms/step - loss: 0.0052 - acc: 0.9985 - val_loss: 0.3140 - val_acc: 0.9330\n",
            "Epoch 47/100\n",
            "100/100 [==============================] - 17s 168ms/step - loss: 0.0058 - acc: 0.9980 - val_loss: 0.3450 - val_acc: 0.9250\n",
            "Epoch 48/100\n",
            "100/100 [==============================] - 17s 173ms/step - loss: 0.0044 - acc: 0.9990 - val_loss: 0.3899 - val_acc: 0.9240\n",
            "Epoch 49/100\n",
            "100/100 [==============================] - 17s 174ms/step - loss: 0.0038 - acc: 0.9990 - val_loss: 0.3270 - val_acc: 0.9260\n",
            "Epoch 50/100\n",
            "100/100 [==============================] - 17s 172ms/step - loss: 0.0070 - acc: 0.9970 - val_loss: 0.3690 - val_acc: 0.9310\n",
            "Epoch 51/100\n",
            "100/100 [==============================] - 17s 172ms/step - loss: 0.0038 - acc: 0.9985 - val_loss: 0.3291 - val_acc: 0.9310\n",
            "Epoch 52/100\n",
            "100/100 [==============================] - 17s 169ms/step - loss: 0.0054 - acc: 0.9980 - val_loss: 0.3030 - val_acc: 0.9370\n",
            "Epoch 53/100\n",
            "100/100 [==============================] - 17s 172ms/step - loss: 0.0043 - acc: 0.9985 - val_loss: 0.3371 - val_acc: 0.9320\n",
            "Epoch 54/100\n",
            "100/100 [==============================] - 17s 172ms/step - loss: 0.0085 - acc: 0.9980 - val_loss: 0.3861 - val_acc: 0.9300\n",
            "Epoch 55/100\n",
            "100/100 [==============================] - 17s 171ms/step - loss: 0.0076 - acc: 0.9970 - val_loss: 0.3224 - val_acc: 0.9290\n",
            "Epoch 56/100\n",
            "100/100 [==============================] - 17s 172ms/step - loss: 0.0038 - acc: 0.9980 - val_loss: 0.3291 - val_acc: 0.9270\n",
            "Epoch 57/100\n",
            "100/100 [==============================] - 17s 172ms/step - loss: 0.0031 - acc: 0.9995 - val_loss: 0.3450 - val_acc: 0.9370\n",
            "Epoch 58/100\n",
            "100/100 [==============================] - 17s 173ms/step - loss: 0.0041 - acc: 0.9980 - val_loss: 0.3235 - val_acc: 0.9300\n",
            "Epoch 59/100\n",
            "100/100 [==============================] - 17s 174ms/step - loss: 7.7000e-04 - acc: 1.0000 - val_loss: 0.3567 - val_acc: 0.9360\n",
            "Epoch 60/100\n",
            "100/100 [==============================] - 17s 172ms/step - loss: 0.0053 - acc: 0.9985 - val_loss: 0.3291 - val_acc: 0.9380\n",
            "Epoch 61/100\n",
            "100/100 [==============================] - 17s 172ms/step - loss: 0.0020 - acc: 1.0000 - val_loss: 0.4079 - val_acc: 0.9200\n",
            "Epoch 62/100\n",
            "100/100 [==============================] - 17s 171ms/step - loss: 0.0035 - acc: 0.9980 - val_loss: 0.3684 - val_acc: 0.9340\n",
            "Epoch 63/100\n",
            "100/100 [==============================] - 17s 171ms/step - loss: 0.0058 - acc: 0.9980 - val_loss: 0.3084 - val_acc: 0.9370\n",
            "Epoch 64/100\n",
            "100/100 [==============================] - 17s 171ms/step - loss: 0.0031 - acc: 0.9985 - val_loss: 0.3284 - val_acc: 0.9360\n",
            "Epoch 65/100\n",
            "100/100 [==============================] - 17s 174ms/step - loss: 0.0017 - acc: 0.9995 - val_loss: 0.4281 - val_acc: 0.9210\n",
            "Epoch 66/100\n",
            "100/100 [==============================] - 17s 170ms/step - loss: 0.0034 - acc: 0.9985 - val_loss: 0.3387 - val_acc: 0.9350\n",
            "Epoch 67/100\n",
            "100/100 [==============================] - 18s 175ms/step - loss: 0.0030 - acc: 0.9990 - val_loss: 0.3866 - val_acc: 0.9290\n",
            "Epoch 68/100\n",
            "100/100 [==============================] - 17s 172ms/step - loss: 0.0031 - acc: 0.9985 - val_loss: 0.3299 - val_acc: 0.9290\n",
            "Epoch 69/100\n",
            "100/100 [==============================] - 17s 172ms/step - loss: 0.0036 - acc: 0.9985 - val_loss: 0.4227 - val_acc: 0.9300\n",
            "Epoch 70/100\n",
            "100/100 [==============================] - 17s 172ms/step - loss: 0.0026 - acc: 0.9985 - val_loss: 0.3545 - val_acc: 0.9340\n",
            "Epoch 71/100\n",
            "100/100 [==============================] - 17s 173ms/step - loss: 0.0025 - acc: 0.9990 - val_loss: 0.4101 - val_acc: 0.9250\n",
            "Epoch 72/100\n",
            "100/100 [==============================] - 17s 170ms/step - loss: 0.0058 - acc: 0.9975 - val_loss: 0.3850 - val_acc: 0.9340\n",
            "Epoch 73/100\n",
            "100/100 [==============================] - 17s 172ms/step - loss: 9.1869e-04 - acc: 1.0000 - val_loss: 0.6999 - val_acc: 0.9080\n",
            "Epoch 74/100\n",
            "100/100 [==============================] - 17s 167ms/step - loss: 0.0015 - acc: 1.0000 - val_loss: 0.3791 - val_acc: 0.9320\n",
            "Epoch 75/100\n",
            "100/100 [==============================] - 17s 173ms/step - loss: 7.5526e-04 - acc: 1.0000 - val_loss: 0.3829 - val_acc: 0.9370\n",
            "Epoch 76/100\n",
            "100/100 [==============================] - 17s 172ms/step - loss: 0.0045 - acc: 0.9990 - val_loss: 0.4299 - val_acc: 0.9320\n",
            "Epoch 77/100\n",
            "100/100 [==============================] - 17s 171ms/step - loss: 0.0062 - acc: 0.9980 - val_loss: 0.3747 - val_acc: 0.9380\n",
            "Epoch 78/100\n",
            "100/100 [==============================] - 17s 170ms/step - loss: 0.0023 - acc: 0.9995 - val_loss: 0.4097 - val_acc: 0.9270\n",
            "Epoch 79/100\n",
            "100/100 [==============================] - 17s 170ms/step - loss: 0.0052 - acc: 0.9975 - val_loss: 0.4252 - val_acc: 0.9300\n",
            "Epoch 80/100\n",
            "100/100 [==============================] - 17s 172ms/step - loss: 0.0030 - acc: 0.9985 - val_loss: 0.3593 - val_acc: 0.9360\n",
            "Epoch 81/100\n",
            "100/100 [==============================] - 17s 172ms/step - loss: 4.7099e-04 - acc: 1.0000 - val_loss: 0.3991 - val_acc: 0.9290\n",
            "Epoch 82/100\n",
            "100/100 [==============================] - 17s 173ms/step - loss: 9.4614e-04 - acc: 1.0000 - val_loss: 0.6254 - val_acc: 0.9160\n",
            "Epoch 83/100\n",
            "100/100 [==============================] - 17s 171ms/step - loss: 0.0025 - acc: 0.9990 - val_loss: 0.3580 - val_acc: 0.9370\n",
            "Epoch 84/100\n",
            "100/100 [==============================] - 17s 171ms/step - loss: 0.0027 - acc: 0.9990 - val_loss: 0.8768 - val_acc: 0.8920\n",
            "Epoch 85/100\n",
            "100/100 [==============================] - 17s 171ms/step - loss: 0.0041 - acc: 0.9990 - val_loss: 0.4567 - val_acc: 0.9290\n",
            "Epoch 86/100\n",
            "100/100 [==============================] - 17s 172ms/step - loss: 0.0034 - acc: 0.9980 - val_loss: 0.4354 - val_acc: 0.9250\n",
            "Epoch 87/100\n",
            "100/100 [==============================] - 17s 170ms/step - loss: 0.0021 - acc: 0.9990 - val_loss: 0.3484 - val_acc: 0.9390\n",
            "Epoch 88/100\n",
            "100/100 [==============================] - 17s 173ms/step - loss: 0.0027 - acc: 0.9985 - val_loss: 0.4833 - val_acc: 0.9260\n",
            "Epoch 89/100\n",
            "100/100 [==============================] - 17s 173ms/step - loss: 0.0013 - acc: 0.9995 - val_loss: 0.3787 - val_acc: 0.9310\n",
            "Epoch 90/100\n",
            "100/100 [==============================] - 17s 173ms/step - loss: 0.0022 - acc: 0.9990 - val_loss: 0.3313 - val_acc: 0.9390\n",
            "Epoch 91/100\n",
            "100/100 [==============================] - 18s 176ms/step - loss: 0.0028 - acc: 0.9990 - val_loss: 0.3496 - val_acc: 0.9350\n",
            "Epoch 92/100\n",
            "100/100 [==============================] - 17s 170ms/step - loss: 0.0025 - acc: 0.9990 - val_loss: 0.3444 - val_acc: 0.9360\n",
            "Epoch 93/100\n",
            "100/100 [==============================] - 17s 174ms/step - loss: 0.0018 - acc: 1.0000 - val_loss: 0.4469 - val_acc: 0.9350\n",
            "Epoch 94/100\n",
            "100/100 [==============================] - 17s 169ms/step - loss: 0.0029 - acc: 0.9995 - val_loss: 0.3597 - val_acc: 0.9330\n",
            "Epoch 95/100\n",
            "100/100 [==============================] - 17s 170ms/step - loss: 0.0020 - acc: 0.9990 - val_loss: 0.4350 - val_acc: 0.9330\n",
            "Epoch 96/100\n",
            "100/100 [==============================] - 17s 169ms/step - loss: 0.0019 - acc: 0.9995 - val_loss: 0.3673 - val_acc: 0.9360\n",
            "Epoch 97/100\n",
            "100/100 [==============================] - 17s 171ms/step - loss: 0.0038 - acc: 0.9990 - val_loss: 0.4279 - val_acc: 0.9310\n",
            "Epoch 98/100\n",
            "100/100 [==============================] - 17s 171ms/step - loss: 7.2472e-04 - acc: 1.0000 - val_loss: 0.4201 - val_acc: 0.9350\n",
            "Epoch 99/100\n",
            "100/100 [==============================] - 17s 170ms/step - loss: 0.0020 - acc: 0.9990 - val_loss: 0.3869 - val_acc: 0.9330\n",
            "Epoch 100/100\n",
            "100/100 [==============================] - 17s 173ms/step - loss: 6.6663e-04 - acc: 1.0000 - val_loss: 0.3866 - val_acc: 0.9350\n"
          ],
          "name": "stdout"
        }
      ]
    },
    {
      "cell_type": "code",
      "metadata": {
        "id": "wVfZsSKdjrQY",
        "colab_type": "code",
        "colab": {}
      },
      "source": [
        "model.save('cats_and_dogs_small_4.h5')"
      ],
      "execution_count": 0,
      "outputs": []
    },
    {
      "cell_type": "code",
      "metadata": {
        "id": "T8kVj0r5jr3I",
        "colab_type": "code",
        "colab": {
          "base_uri": "https://localhost:8080/",
          "height": 545
        },
        "outputId": "c5d96eb2-d2dd-4e62-e693-5740258d7d5d"
      },
      "source": [
        "acc = history.history['acc']\n",
        "val_acc = history.history['val_acc']\n",
        "loss = history.history['loss']\n",
        "val_loss = history.history['val_loss']\n",
        "\n",
        "epochs = range(len(acc))\n",
        "\n",
        "plt.plot(epochs, acc, 'bo', label='Training acc')\n",
        "plt.plot(epochs, val_acc, 'b', label='Validation acc')\n",
        "plt.title('Training and validation accuracy')\n",
        "plt.legend()\n",
        "\n",
        "plt.figure()\n",
        "\n",
        "plt.plot(epochs, loss, 'bo', label='Training loss')\n",
        "plt.plot(epochs, val_loss, 'b', label='Validation loss')\n",
        "plt.title('Training and validation loss')\n",
        "plt.legend()\n",
        "\n",
        "plt.show()"
      ],
      "execution_count": 23,
      "outputs": [
        {
          "output_type": "display_data",
          "data": {
            "image/png": "[encoded data removed]",
            "text/plain": [
              "<Figure size 432x288 with 1 Axes>"
            ]
          },
          "metadata": {
            "tags": []
          }
        },
        {
          "output_type": "display_data",
          "data": {
            "image/png": "[encoded data removed]",
            "text/plain": [
              "<Figure size 432x288 with 1 Axes>"
            ]
          },
          "metadata": {
            "tags": []
          }
        }
      ]
    },
    {
      "cell_type": "code",
      "metadata": {
        "id": "GqGH98ykj_4g",
        "colab_type": "code",
        "colab": {
          "base_uri": "https://localhost:8080/",
          "height": 143
        },
        "outputId": "d8d9485e-762e-424c-b086-be73183b0a02"
      },
      "source": [
        "test_generator = test_datagen.flow_from_directory(\n",
        "        test_dir,\n",
        "        target_size=(150, 150),\n",
        "        batch_size=20,\n",
        "        class_mode='binary')\n",
        "\n",
        "test_loss, test_acc = model.evaluate(test_generator, steps=50)\n",
        "print('test acc:', test_acc)"
      ],
      "execution_count": 24,
      "outputs": [
        {
          "output_type": "stream",
          "text": [
            "Found 1000 images belonging to 2 classes.\n",
            "WARNING:tensorflow:sample_weight modes were coerced from\n",
            "  ...\n",
            "    to  \n",
            "  ['...']\n",
            "50/50 [==============================] - 3s 56ms/step - loss: 0.4336 - acc: 0.9370\n",
            "test acc: 0.937\n"
          ],
          "name": "stdout"
        }
      ]
    }
  ]
}